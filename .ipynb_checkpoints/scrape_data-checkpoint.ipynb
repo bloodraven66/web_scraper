{
 "cells": [
  {
   "cell_type": "code",
   "execution_count": 27,
   "metadata": {},
   "outputs": [],
   "source": [
    "import requests\n",
    "from bs4 import BeautifulSoup\n",
    "from googlesearch import search\n",
    "import pdfplumber\n",
    "from IPython.display import display\n",
    "import ipywidgets as widgets\n",
    "from selenium import webdriver\n",
    "import webbrowser\n",
    "from IPython.display import clear_output"
   ]
  },
  {
   "cell_type": "code",
   "execution_count": 2,
   "metadata": {},
   "outputs": [],
   "source": [
    "class ScrapeData():\n",
    "    \"\"\"\n",
    "    Python tool to scrap text data from different languages. 3 options available:\n",
    "    \n",
    "    - scrape from link: provided with a link, the tool scrapes through the text body from the webpage \n",
    "      corresponding to the link.\n",
    "      \n",
    "    - scrape from keyword: provided with a keyword, the tool performs a google search and retrieves text from \n",
    "      a priority domain webpage(eg: wikipedia) or top google search result.\n",
    "      \n",
    "    - scrape from document: provided with a pdf document, the tools accesses the text using pdfplumber \n",
    "      python package. Note that some portion of the text may not be returned properly.\n",
    "    \"\"\"\n",
    "    \n",
    "    def __init__(self):\n",
    "        \"\"\"\n",
    "        Initialise parameters for google search and priority website \n",
    "        \"\"\"\n",
    "        \n",
    "        self.parser = 'html.parser'\n",
    "        self.tld = 'co.in'\n",
    "        self.search_num = 10\n",
    "        self.search_stop = 10\n",
    "        self.pause = 2\n",
    "        self.search_priority = 'wikipedia'\n",
    "        self.auto_return_index = 0\n",
    "    \n",
    "    def read_from_link(self, link, replace_list=['\\n']):\n",
    "        \"\"\"\n",
    "        This function accesses the text content from a webpage link using beautiful soup. To clean the text, \n",
    "        provide the list of charecters to be removed in replace_list.\n",
    "        \"\"\"\n",
    "        page = requests.get(link)\n",
    "        soup = BeautifulSoup(page.content, self.parser)\n",
    "        data = []\n",
    "        for i in range(len(soup.find_all('p'))):\n",
    "            text = soup.find_all('p')[i].get_text()\n",
    "            for j in range(len(replace_list)):\n",
    "                text = text.replace(replace_list[j],'')\n",
    "            if len(text)>0:\n",
    "                data.append(text)\n",
    "        return data\n",
    "    \n",
    "    def google_search(self, search_keyword, priority=None):\n",
    "        \"\"\"\n",
    "        This function performs google search on the input keyword. Priority can be provided to a particular \n",
    "        website (Eg: wikipedia) \n",
    "        \"\"\"\n",
    "        search_links = []\n",
    "        for link in search(search_keyword, \n",
    "                           tld=self.tld, \n",
    "                           num=self.search_num, \n",
    "                           stop=self.search_stop, \n",
    "                           pause=self.pause):\n",
    "            search_links.append(link)\n",
    "            \n",
    "            if priority is not None:\n",
    "                if self.search_priority in link:\n",
    "                    return link\n",
    "        return search_links[self.auto_return_index]\n",
    "                \n",
    "    \n",
    "    def read_from_doc(self, document):\n",
    "        \"\"\"\n",
    "        This function extracts text from pdf using pdfplumber tool.\n",
    "        \"\"\"\n",
    "        data = []\n",
    "        with pdfplumber.open(document) as pdf:\n",
    "            for i in range(len(pdf.pages)):\n",
    "                page = pdf.pages[i]\n",
    "                text = page.extract_text()\n",
    "                if text is not None:\n",
    "                    text = text.replace('\\n', ' ')\n",
    "                    data.append(text) \n",
    "        return data\n",
    "    \n",
    "    def read_page(self, search_keyword=None, link=None, document=None):\n",
    "        if search_keyword == link == document == None:\n",
    "            raise Exception('Provide link, keyword or document to scrape from')\n",
    "            \n",
    "        if search_keyword is not None:\n",
    "            keyword_link = self.google_search(search_keyword, priority=self.search_priority)\n",
    "            text = self.read_from_link(keyword_link)\n",
    "            return(text)\n",
    "            \n",
    "        if link:\n",
    "            text = self.read_from_link(link)\n",
    "            return(text)\n",
    "                \n",
    "        if document:\n",
    "            text = self.read_from_doc(document)\n",
    "            print(f'{len(text)} pages found')\n",
    "            return(text)\n",
    "            \n",
    "scrape_tool = ScrapeData()"
   ]
  },
  {
   "cell_type": "markdown",
   "metadata": {},
   "source": [
    "<b>Read from list of links with gui</b>"
   ]
  },
  {
   "cell_type": "code",
   "execution_count": 74,
   "metadata": {
    "scrolled": false
   },
   "outputs": [
    {
     "data": {
      "application/vnd.jupyter.widget-view+json": {
       "model_id": "91319df1f61f43cc933c4473de705cf7",
       "version_major": 2,
       "version_minor": 0
      },
      "text/plain": [
       "HBox(children=(Button(description='Next', style=ButtonStyle()), Button(description='approve', style=ButtonStyl…"
      ]
     },
     "metadata": {},
     "output_type": "display_data"
    },
    {
     "data": {
      "application/vnd.jupyter.widget-view+json": {
       "model_id": "37a0f803145b4d77b3f8981f25263c12",
       "version_major": 2,
       "version_minor": 0
      },
      "text/plain": [
       "Output()"
      ]
     },
     "metadata": {},
     "output_type": "display_data"
    }
   ],
   "source": [
    "links = ['https://en.wikipedia.org/wiki/Agriculture', 'https://www.bbc.com/hindi/india-56901831',\n",
    "        'https://en.wikipedia.org/wiki/Main_Page']\n",
    "nextButton = widgets.Button(description = 'Next')\n",
    "approve = widgets.Button(description = 'approve')\n",
    "reject = widgets.Button(description = 'reject')\n",
    "output = widgets.Output()\n",
    "\n",
    "# display(nextButton, output)\n",
    "# display(approve, output)\n",
    "# display(reject, output)\n",
    "display(widgets.HBox((nextButton, approve,reject )), output)\n",
    "class Args():\n",
    "    def __init__(self):\n",
    "        self.linkIdx = 0\n",
    "        self.approvedList = []\n",
    "        self.defaultColor  = '#EEEEEE'\n",
    "        self.approvedColor = 'lightgreen'\n",
    "        self.rejectedColor = '#ECC020'\n",
    "def on_button_clicked_approve(b):\n",
    "    with output:\n",
    "        approve.style.button_color = args.approvedColor\n",
    "        reject.style.button_color = args.defaultColor\n",
    "        if len(args.approvedList) != args.linkIdx:\n",
    "            args.approvedList.append(True)\n",
    "        else:\n",
    "            args.approvedList[args.linkIdx-1] = True\n",
    "            \n",
    "def on_button_clicked_reject(b):\n",
    "    with output:\n",
    "        approve.style.button_color = args.defaultColor\n",
    "        reject.style.button_color = args.rejectedColor\n",
    "        if len(args.approvedList) != args.linkIdx:\n",
    "            args.approvedList.append(False)\n",
    "        else:\n",
    "            args.approvedList[args.linkIdx-1] = False\n",
    "            \n",
    "def on_button_clicked(b):\n",
    "    with output:\n",
    "        reject.style.button_color = args.defaultColor\n",
    "        approve.style.button_color = args.defaultColor\n",
    "        print('Extracting..')\n",
    "#         text = scrape_tool.read_page(links[args.linkIdx])\n",
    "        clear_output()\n",
    "#         print(text)\n",
    "#         webbrowser.open(links[args.linkIdx])\n",
    "        args.linkIdx += 1\n",
    "        print(args.approvedList)\n",
    "args = Args()\n",
    "approve.on_click(on_button_clicked_approve)\n",
    "reject.on_click(on_button_clicked_reject)\n",
    "nextButton.on_click(on_button_clicked)"
   ]
  },
  {
   "cell_type": "markdown",
   "metadata": {},
   "source": [
    "<b>Read from english website</b>"
   ]
  },
  {
   "cell_type": "code",
   "execution_count": 3,
   "metadata": {
    "collapsed": true
   },
   "outputs": [
    {
     "data": {
      "text/plain": [
       "['Agriculture is the practice of cultivating plants and livestock.[1] Agriculture was the key development in the rise of sedentary human civilization, whereby farming of domesticated species created food surpluses that enabled people to live in cities. The history of agriculture began thousands of years ago. After gathering wild grains beginning at least 105,000 years ago, nascent farmers began to plant them around 11,500 years ago. Pigs, sheep, and cattle were domesticated over 10,000 years ago. Plants were independently cultivated in at least 11 regions of the world. Industrial agriculture based on large-scale monoculture in the twentieth century came to dominate agricultural output, though about 2\\xa0billion people still depended on subsistence agriculture.',\n",
       " 'Modern agronomy, plant breeding, agrochemicals such as pesticides and fertilizers, and technological developments have sharply increased crop yields, while causing widespread ecological and environmental damage. Selective breeding and modern practices in animal husbandry have similarly increased the output of meat, but have raised concerns about animal welfare and environmental damage. Environmental issues include contributions to global warming, depletion of aquifers, deforestation, antibiotic resistance, and growth hormones in industrial meat production. Agriculture is both a cause of and sensitive to environmental degradation, such as biodiversity loss, desertification, soil degradation and global warming, all of which can cause decreases in crop yield. Genetically modified organisms are widely used, although some are banned in certain countries.',\n",
       " \"The major agricultural products can be broadly grouped into foods, fibers, fuels and raw materials (such as rubber). Food classes include cereals (grains), vegetables, fruits, oils, meat, milk, fungi and eggs. Over one-third of the world's workers are employed in agriculture, second only to the service sector, although in recent decades, the global trend of a decreasing number of agricultural workers continues, especially in developing countries where smallholding is being overtaken by industrial agriculture and mechanization.\",\n",
       " 'The word agriculture is a late Middle English adaptation of Latin agricultūra, from ager, \"field\", and cultūra, \"cultivation\" or \"growing\".[2] While agriculture usually refers to human activities, certain species of ant,[3][4] termite and beetle have been cultivating crops for up to 60 million years.[5] Agriculture is defined with varying scopes, in its broadest sense using natural resources to \"produce commodities which maintain life, including food, fiber, forest products, horticultural crops, and their related services\".[6] Thus defined, it includes arable farming, horticulture, animal husbandry and forestry, but horticulture and forestry are in practice often excluded.[6]',\n",
       " 'The development of agriculture enabled the human population to grow many times larger than could be sustained by hunting and gathering.[9] Agriculture began independently in different parts of the globe,[10] and included a diverse range of taxa, in at least 11 separate centres of origin.[7] Wild grains were collected and eaten from at least 105,000 years ago.[11] From around 11,500 years ago, the eight Neolithic founder crops, emmer and einkorn wheat, hulled barley, peas, lentils, bitter vetch, chick peas and flax were cultivated in the Levant. Rice was domesticated in China between 11,500 and 6,200 BC with the earliest known cultivation from 5,700 BC,[12] followed by mung, soy and azuki beans. Sheep were domesticated in Mesopotamia between 13,000 and 11,000 years ago.[13] Cattle were domesticated from the wild aurochs in the areas of modern Turkey and Pakistan some 10,500 years ago.[14] Pig production emerged in Eurasia, including Europe, East Asia and Southwest Asia,[15] where wild boar were first domesticated about 10,500 years ago.[16] In the Andes of South America, the potato was domesticated between 10,000 and 7,000 years ago, along with beans, coca, llamas, alpacas, and guinea pigs. Sugarcane and some root vegetables were domesticated in New Guinea around 9,000 years ago. Sorghum was domesticated in the Sahel region of Africa by 7,000 years ago. Cotton was domesticated in Peru by 5,600 years ago,[17] and was independently domesticated in Eurasia. In Mesoamerica, wild teosinte was bred into maize by 6,000 years ago.[18]Scholars have offered multiple hypotheses to explain the historical origins of agriculture. Studies of the transition from hunter-gatherer to agricultural societies indicate an initial period of intensification and increasing sedentism; examples are the Natufian culture in the Levant, and the Early Chinese Neolithic in China. Then, wild stands that had previously been harvested started to be planted, and gradually came to be domesticated.[19][20][21]',\n",
       " 'In Eurasia, the Sumerians started to live in villages from about 8,000 BC, relying on the Tigris and Euphrates rivers and a canal system for irrigation. Ploughs appear in pictographs around 3,000 BC; seed-ploughs around 2,300 BC. Farmers grew wheat, barley, vegetables such as lentils and onions, and fruits including dates, grapes, and figs.[22] Ancient Egyptian agriculture relied on the Nile River and its seasonal flooding. Farming started in the predynastic period at the end of the Paleolithic, after 10,000 BC. Staple food crops were grains such as wheat and barley, alongside industrial crops such as flax and papyrus.[23][24] In India, wheat, barley and jujube were domesticated by 9,000 BC, soon followed by sheep and goats.[25] Cattle, sheep and goats were domesticated in Mehrgarh culture by 8,000–6,000 BC.[26][27][28] Cotton was cultivated by the 5th–4th millennium BC.[29] Archeological evidence indicates an animal-drawn plough from 2,500 BC in the Indus Valley Civilisation.[30]In China, from the 5th century BC there was a nationwide granary system and widespread silk farming.[31] Water-powered grain mills were in use by the 1st century BC,[32] followed by irrigation.[33] By the late 2nd century, heavy ploughs had been developed with iron ploughshares and mouldboards.[34][35] These spread westwards across Eurasia.[36] Asian rice was domesticated 8,200–13,500 years ago\\xa0– depending on the molecular clock estimate that is used[37]\\xa0– on the Pearl River in southern China with a single genetic origin from the wild rice Oryza rufipogon.[38] In Greece and Rome, the major cereals were wheat, emmer, and barley, alongside vegetables including peas, beans, and olives. Sheep and goats were kept mainly for dairy products.[39][40]',\n",
       " 'In the Americas, crops domesticated in Mesoamerica (apart from teosinte) include squash, beans, and cacao.[41] Cocoa was being domesticated by the Mayo Chinchipe of the upper Amazon around 3,000 BC.[42]The turkey was probably domesticated in Mexico or the American Southwest.[43] The Aztecs developed irrigation systems, formed terraced hillsides, fertilized their soil, and developed chinampas or artificial islands. The Mayas used extensive canal and raised field systems to farm swampland from 400 BC.[44][45][46][47][48] Coca was domesticated in the Andes, as were the peanut, tomato, tobacco, and pineapple.[41] Cotton was domesticated in Peru by 3,600 BC.[49] Animals including llamas, alpacas, and guinea pigs were domesticated there.[50] In North America, the indigenous people of the East domesticated crops such as sunflower, tobacco,[51] squash and Chenopodium.[52][53] Wild foods including wild rice and maple sugar were harvested.[54] The domesticated strawberry is a hybrid of a Chilean and a North American species, developed by breeding in Europe and North America.[55] The indigenous people of the Southwest and the Pacific Northwest practiced forest gardening and fire-stick farming. The natives controlled fire on a regional scale to create a low-intensity fire ecology that sustained a low-density agriculture in loose rotation; a sort of \"wild\" permaculture.[56][57][58][59] A system of companion planting called the Three Sisters was developed in North America. The three crops were winter squash, maize, and climbing beans.[60][61]',\n",
       " \"Indigenous Australians, long supposed to have been nomadic hunter-gatherers, practised systematic burning, possibly to enhance natural productivity in fire-stick farming.[62] The Gunditjmara and other groups developed eel farming and fish trapping systems from some 5,000 years ago.[63] There is evidence of 'intensification' across the whole continent over that period.[64] In two regions of Australia, the central west coast and eastern central, early farmers cultivated yams, native millet, and bush onions, possibly in permanent settlements.[65][21]\",\n",
       " 'In the Middle Ages, both in the Islamic world and in Europe, agriculture transformed with improved techniques and the diffusion of crop plants, including the introduction of sugar, rice, cotton and fruit trees (such as the orange) to Europe by way of Al-Andalus.[66][67] After 1492 the Columbian exchange brought New World crops such as maize, potatoes, tomatoes, sweet potatoes and manioc to Europe, and Old World crops such as wheat, barley, rice and turnips, and livestock (including horses, cattle, sheep and goats) to the Americas.[68]',\n",
       " 'Irrigation, crop rotation, and fertilizers advanced from the 17th century with the British Agricultural Revolution, allowing global population to rise significantly. Since 1900 agriculture in developed nations, and to a lesser extent in the developing world, has seen large rises in productivity as mechanization replaces human labor, and assisted by synthetic fertilizers, pesticides, and selective breeding. The Haber-Bosch method allowed the synthesis of ammonium nitrate fertilizer on an industrial scale, greatly increasing crop yields and sustaining a further increase in global population.[69][70] Modern agriculture has raised or encountered ecological, political, and economic issues including water pollution, biofuels, genetically modified organisms, tariffs and farm subsidies, leading to alternative approaches such as the organic movement.[71][72]',\n",
       " 'Pastoralism involves managing domesticated animals. In nomadic pastoralism, herds of livestock are moved from place to place in search of pasture, fodder, and water. This type of farming is practised in arid and semi-arid regions of Sahara, Central Asia and some parts of India.[73]',\n",
       " 'In shifting cultivation, a small area of forest is cleared by cutting and burning the trees. The cleared land is used for growing crops for a few years until the soil becomes too infertile, and the area is abandoned. Another patch of land is selected and the process is repeated. This type of farming is practiced mainly in areas with abundant rainfall where the forest regenerates quickly. This practice is used in Northeast India, Southeast Asia, and the Amazon Basin.[74]',\n",
       " \"Subsistence farming is practiced to satisfy family or local needs alone, with little left over for transport elsewhere. It is intensively practiced in Monsoon Asia and South-East Asia.[75] An estimated 2.5\\xa0billion subsistence farmers worked in 2018, cultivating about 60% of the earth's arable land.[76]\",\n",
       " 'Intensive farming is cultivation to maximise productivity, with a low fallow ratio and a high use of inputs (water, fertilizer, pesticide and automation). It is practiced mainly in developed countries.[77][78]',\n",
       " \"From the twentieth century, intensive agriculture increased productivity. It substituted synthetic fertilizers and pesticides for labor, but caused increased water pollution, and often involved farm subsidies. In recent years there has been a backlash against the environmental effects of conventional agriculture, resulting in the organic, regenerative, and sustainable agriculture movements.[71][80] One of the major forces behind this movement has been the European Union, which first certified organic food in 1991 and began reform of its Common Agricultural Policy (CAP) in 2005 to phase out commodity-linked farm subsidies,[81] also known as decoupling. The growth of organic farming has renewed research in alternative technologies such as integrated pest management, selective breeding,[82] and controlled-environment agriculture.[83][84] Recent mainstream technological developments include genetically modified food.[85] Demand for non-food biofuel crops,[86] development of former farm lands, rising transportation costs, climate change, growing consumer demand in China and India, and population growth,[87] are threatening food security in many parts of the world.[88][89][90][91][92] The International Fund for Agricultural Development posits that an increase in smallholder agriculture may be part of the solution to concerns about food prices and overall food security, given the favorable experience of Vietnam.[93] Soil degradation and diseases such as stem rust are major concerns globally;[94] approximately 40% of the world's agricultural land is seriously degraded.[95][96] By 2015, the agricultural output of China was the largest in the world, followed by the European Union, India and the United States.[79] Economists measure the total factor productivity of agriculture and by this measure agriculture in the United States is roughly 1.7 times more productive than it was in 1948.[97]\",\n",
       " 'Following the three-sector theory, the number of people employed in agriculture and other primary activities (such as fishing) can be more than 80% in the least developed countries, and less than 2% in the most highly developed countries.[98] Since the Industrial Revolution, many countries have made the transition to developed economies, and the proportion of people working in agriculture has steadily fallen. During the 16th century in Europe, for example, between 55 and 75% of the population was engaged in agriculture; by the 19th century, this had dropped to between 35 and 65%.[99] In the same countries today, the figure is less than 10%.[98]At the start of the 21st century, some one billion people, or over 1/3 of the available work force, were employed in agriculture. It constitutes approximately 70% of the global employment of children, and in many countries employs the largest percentage of women of any industry.[100] The service sector overtook the agricultural sector as the largest global employer in 2007.[101]',\n",
       " 'Agriculture, specifically farming, remains a hazardous industry, and farmers worldwide remain at high risk of work-related injuries, lung disease, noise-induced hearing loss, skin diseases, as well as certain cancers related to chemical use and prolonged sun exposure. On industrialized farms, injuries frequently involve the use of agricultural machinery, and a common cause of fatal agricultural injuries in developed countries is tractor rollovers.[102] Pesticides and other chemicals used in farming can be hazardous to worker health, and workers exposed to pesticides may experience illness or have children with birth defects.[103] As an industry in which families commonly share in work and live on the farm itself, entire families can be at risk for injuries, illness, and death.[104] Ages 0–6 May be an especially vulnerable population in agriculture;[105] common causes of fatal injuries among young farm workers include drowning, machinery and motor accidents, including with all-terrain vehicles.[104][105][106]',\n",
       " 'The International Labour Organization considers agriculture \"one of the most hazardous of all economic sectors\".[100] It estimates that the annual work-related death toll among agricultural employees is at least 170,000, twice the average rate of other jobs. In addition, incidences of death, injury and illness related to agricultural activities often go unreported.[107] The organization has developed the Safety and Health in Agriculture Convention, 2001, which covers the range of risks in the agriculture occupation, the prevention of these risks and the role that individuals and organizations engaged in agriculture should play.[100]',\n",
       " 'In the United States, agriculture has been identified by the National Institute for Occupational Safety and Health as a priority industry sector in the National Occupational Research Agenda to identify and provide intervention strategies for occupational health and safety issues.[108][109]In the European Union, the European Agency for Safety and Health at Work has issued guidelines on implementing health and safety directives in agriculture, livestock farming, horticulture, and forestry.[110] The Agricultural Safety and Health Council of America (ASHCA) also holds a yearly summit to discuss safety.[111]',\n",
       " 'Overall production varies by country as listed.',\n",
       " 'The twenty largest countries by agricultural output (in nominal terms) at peak level as of 2018, according to the IMF and CIA World Factbook.',\n",
       " 'Cropping systems vary among farms depending on the available resources and constraints; geography and climate of the farm; government policy; economic, social and political pressures; and the philosophy and culture of the farmer.[113][114]',\n",
       " 'Shifting cultivation (or slash and burn) is a system in which forests are burnt, releasing nutrients to support cultivation of annual and then perennial crops for a period of several years.[115] Then the plot is left fallow to regrow forest, and the farmer moves to a new plot, returning after many more years (10–20). This fallow period is shortened if population density grows, requiring the input of nutrients (fertilizer or manure) and some manual pest control. Annual cultivation is the next phase of intensity in which there is no fallow period. This requires even greater nutrient and pest control inputs.[115]',\n",
       " 'Further industrialization led to the use of monocultures, when one cultivar is planted on a large acreage. Because of the low biodiversity, nutrient use is uniform and pests tend to build up, necessitating the greater use of pesticides and fertilizers.[114] Multiple cropping, in which several crops are grown sequentially in one year, and intercropping, when several crops are grown at the same time, are other kinds of annual cropping systems known as polycultures.[115]',\n",
       " 'In subtropical and arid environments, the timing and extent of agriculture may be limited by rainfall, either not allowing multiple annual crops in a year, or requiring irrigation. In all of these environments perennial crops are grown (coffee, chocolate) and systems are practiced such as agroforestry. In temperate environments, where ecosystems were predominantly grassland or prairie, highly productive annual farming is the dominant agricultural system.[115]',\n",
       " 'Important categories of food crops include cereals, legumes, forage, fruits and vegetables.[116] Natural fibers include cotton, wool, hemp, silk and flax.[117] Specific crops are cultivated in distinct growing regions throughout the world. Production is listed in millions of metric tons, based on FAO estimates.[116]',\n",
       " 'Animal husbandry is the breeding and raising of animals for meat, milk, eggs, or wool, and for work and transport.[118] Working animals, including horses, mules, oxen, water buffalo, camels, llamas, alpacas, donkeys, and dogs, have for centuries been used to help cultivate fields, harvest crops, wrangle other animals, and transport farm products to buyers.[119]',\n",
       " \"Livestock production systems can be defined based on feed source, as grassland-based, mixed, and landless.[120] As of 2010[update], 30% of Earth's ice- and water-free area was used for producing livestock, with the sector employing approximately 1.3\\xa0billion people. Between the 1960s and the 2000s, there was a significant increase in livestock production, both by numbers and by carcass weight, especially among beef, pigs and chickens, the latter of which had production increased by almost a factor of 10. Non-meat animals, such as milk cows and egg-producing chickens, also showed significant production increases. Global cattle, sheep and goat populations are expected to continue to increase sharply through 2050.[121] Aquaculture or fish farming, the production of fish for human consumption in confined operations, is one of the fastest growing sectors of food production, growing at an average of 9% a year between 1975 and 2007.[122]\",\n",
       " 'During the second half of the 20th century, producers using selective breeding focused on creating livestock breeds and crossbreeds that increased production, while mostly disregarding the need to preserve genetic diversity. This trend has led to a significant decrease in genetic diversity and resources among livestock breeds, leading to a corresponding decrease in disease resistance and local adaptations previously found among traditional breeds.[123]',\n",
       " 'Grassland based livestock production relies upon plant material such as shrubland, rangeland, and pastures for feeding ruminant animals. Outside nutrient inputs may be used, however manure is returned directly to the grassland as a major nutrient source. This system is particularly important in areas where crop production is not feasible because of climate or soil, representing 30–40\\xa0million pastoralists.[115] Mixed production systems use grassland, fodder crops and grain feed crops as feed for ruminant and monogastric (one stomach; mainly chickens and pigs) livestock. Manure is typically recycled in mixed systems as a fertilizer for crops.[120]',\n",
       " 'Landless systems rely upon feed from outside the farm, representing the de-linking of crop and livestock production found more prevalently in Organisation for Economic Co-operation and Development member countries. Synthetic fertilizers are more heavily relied upon for crop production and manure use becomes a challenge as well as a source for pollution.[120] Industrialized countries use these operations to produce much of the global supplies of poultry and pork. Scientists estimate that 75% of the growth in livestock production between 2003 and 2030 will be in confined animal feeding operations, sometimes called factory farming. Much of this growth is happening in developing countries in Asia, with much smaller amounts of growth in Africa.[121] Some of the practices used in commercial livestock production, including the usage of growth hormones, are controversial.[124]',\n",
       " 'Tillage is the practice of breaking up the soil with tools such as the plow or harrow to prepare for planting, for nutrient incorporation, or for pest control. Tillage varies in intensity from conventional to no-till. It may improve productivity by warming the soil, incorporating fertilizer and controlling weeds, but also renders soil more prone to erosion, triggers the decomposition of organic matter releasing CO2, and reduces the abundance and diversity of soil organisms.[125][126]',\n",
       " 'Pest control includes the management of weeds, insects, mites, and diseases. Chemical (pesticides), biological (biocontrol), mechanical (tillage), and cultural practices are used. Cultural practices include crop rotation, culling, cover crops, intercropping, composting, avoidance, and resistance. Integrated pest management attempts to use all of these methods to keep pest populations below the number which would cause economic loss, and recommends pesticides as a last resort.[127]',\n",
       " 'Nutrient management includes both the source of nutrient inputs for crop and livestock production, and the method of use of manure produced by livestock. Nutrient inputs can be chemical inorganic fertilizers, manure, green manure, compost and minerals.[128] Crop nutrient use may also be managed using cultural techniques such as crop rotation or a fallow period. Manure is used either by holding livestock where the feed crop is growing, such as in managed intensive rotational grazing, or by spreading either dry or liquid formulations of manure on cropland or pastures.[129][125]',\n",
       " 'Water management is needed where rainfall is insufficient or variable, which occurs to some degree in most regions of the world.[115] Some farmers use irrigation to supplement rainfall. In other areas such as the Great Plains in the U.S. and Canada, farmers use a fallow year to conserve soil moisture to use for growing a crop in the following year.[130] Agriculture represents 70% of freshwater use worldwide.[131]',\n",
       " 'According to a report by the International Food Policy Research Institute, agricultural technologies will have the greatest impact on food production if adopted in combination with each other; using a model that assessed how eleven technologies could impact agricultural productivity, food security and trade by 2050, the International Food Policy Research Institute found that the number of people at risk from hunger could be reduced by as much as 40% and food prices could be reduced by almost half.[132]',\n",
       " 'Payment for ecosystem services is a method of providing additional incentives to encourage farmers to conserve some aspects of the environment. Measures might include paying for reforestation upstream of a city, to improve the supply of fresh water.[133]',\n",
       " 'Crop alteration has been practiced by humankind for thousands of years, since the beginning of civilization. Altering crops through breeding practices changes the genetic make-up of a plant to develop crops with more beneficial characteristics for humans, for example, larger fruits or seeds, drought-tolerance, or resistance to pests. Significant advances in plant breeding ensued after the work of geneticist Gregor Mendel. His work on dominant and recessive alleles, although initially largely ignored for almost 50 years, gave plant breeders a better understanding of genetics and breeding techniques. Crop breeding includes techniques such as plant selection with desirable traits, self-pollination and cross-pollination, and molecular techniques that genetically modify the organism.[134]',\n",
       " 'Domestication of plants has, over the centuries increased yield, improved disease resistance and drought tolerance, eased harvest and improved the taste and nutritional value of crop plants. Careful selection and breeding have had enormous effects on the characteristics of crop plants. Plant selection and breeding in the 1920s and 1930s improved pasture (grasses and clover) in New Zealand. Extensive X-ray and ultraviolet induced mutagenesis efforts (i.e. primitive genetic engineering) during the 1950s produced the modern commercial varieties of grains such as wheat, corn (maize) and barley.[135][136]',\n",
       " 'The Green Revolution popularized the use of conventional hybridization to sharply increase yield by creating \"high-yielding varieties\". For example, average yields of corn (maize) in the US have increased from around 2.5 tons per hectare (t/ha) (40 bushels per acre) in 1900 to about 9.4 t/ha (150 bushels per acre) in 2001. Similarly, worldwide average wheat yields have increased from less than 1 t/ha in 1900 to more than 2.5 t/ha in 1990. South American average wheat yields are around 2 t/ha, African under 1 t/ha, and Egypt and Arabia up to 3.5 to 4 t/ha with irrigation. In contrast, the average wheat yield in countries such as France is over 8 t/ha. Variations in yields are due mainly to variation in climate, genetics, and the level of intensive farming techniques (use of fertilizers, chemical pest control, growth control to avoid lodging).[137][138][139]',\n",
       " 'Genetically modified organisms (GMO) are organisms whose genetic material has been altered by genetic engineering techniques generally known as recombinant DNA technology. Genetic engineering has expanded the genes available to breeders to use in creating desired germlines for new crops. Increased durability, nutritional content, insect and virus resistance and herbicide tolerance are a few of the attributes bred into crops through genetic engineering.[140] For some, GMO crops cause food safety and food labeling concerns. Numerous countries have placed restrictions on the production, import or use of GMO foods and crops.[141] Currently a global treaty, the Biosafety Protocol, regulates the trade of GMOs. There is ongoing discussion regarding the labeling of foods made from GMOs, and while the EU currently requires all GMO foods to be labeled, the US does not.[142]',\n",
       " 'Herbicide-resistant seed has a gene implanted into its genome that allows the plants to tolerate exposure to herbicides, including glyphosate. These seeds allow the farmer to grow a crop that can be sprayed with herbicides to control weeds without harming the resistant crop. Herbicide-tolerant crops are used by farmers worldwide.[143] With the increasing use of herbicide-tolerant crops, comes an increase in the use of glyphosate-based herbicide sprays. In some areas glyphosate resistant weeds have developed, causing farmers to switch to other herbicides.[144][145] Some studies also link widespread glyphosate usage to iron deficiencies in some crops, which is both a crop production and a nutritional quality concern, with potential economic and health implications.[146]',\n",
       " 'Other GMO crops used by growers include insect-resistant crops, which have a gene from the soil bacterium Bacillus thuringiensis (Bt), which produces a toxin specific to insects. These crops resist damage by insects.[147] Some believe that similar or better pest-resistance traits can be acquired through traditional breeding practices, and resistance to various pests can be gained through hybridization or cross-pollination with wild species. In some cases, wild species are the primary source of resistance traits; some tomato cultivars that have gained resistance to at least 19 diseases did so through crossing with wild populations of tomatoes.[148]',\n",
       " 'Agriculture is both a cause of and sensitive to environmental degradation, such as biodiversity loss, desertification, soil degradation and global warming, which cause decrease in crop yield.[149] Agriculture is one of the most important drivers of environmental pressures, particularly habitat change, climate change, water use and toxic emissions. Agriculture is the main source of toxins released into the environment, including insecticides, especially those used on cotton.[150] The 2011 UNEP Green Economy report stated that agricultural operations produced some 13 per cent of anthropogenic global greenhouse gas emissions. This includes gases from the use of inorganic fertilizers, agro-chemical pesticides, and herbicides, as well as fossil fuel-energy inputs.[151]',\n",
       " 'Agriculture imposes multiple external costs upon society through effects such as pesticide damage to nature (especially herbicides and insecticides), nutrient runoff, excessive water usage, and loss of natural environment. A 2000 assessment of agriculture in the UK determined total external costs for 1996 of £2,343\\xa0million, or £208 per hectare.[152] A 2005 analysis of these costs in the US concluded that cropland imposes approximately $5 to $16\\xa0billion ($30 to $96 per hectare), while livestock production imposes $714\\xa0million.[153] Both studies, which focused solely on the fiscal impacts, concluded that more should be done to internalize external costs. Neither included subsidies in their analysis, but they noted that subsidies also influence the cost of agriculture to society.[152][153]',\n",
       " 'Agriculture seeks to increase yield and to reduce costs. Yield increases with inputs such as fertilisers and removal of pathogens, predators, and competitors (such as weeds). Costs decrease with increasing scale of farm units, such as making fields larger; this means removing hedges, ditches and other areas of habitat. Pesticides kill insects, plants and fungi. These and other measures have cut biodiversity to very low levels on intensively farmed land.[154] Effective yields fall with on-farm losses, which may be caused by poor production practices during harvesting, handling, and storage.[155]',\n",
       " 'A senior UN official, Henning Steinfeld, said that \"Livestock are one of the most significant contributors to today\\'s most serious environmental problems\".[156] Livestock production occupies 70% of all land used for agriculture, or 30% of the land surface of the planet. It is one of the largest sources of greenhouse gases, responsible for 18% of the world\\'s greenhouse gas emissions as measured in CO2 equivalents. By comparison, all transportation emits 13.5% of the CO2. It produces 65% of human-related nitrous oxide (which has 296 times the global warming potential of CO2,) and 37% of all human-induced methane (which is 23 times as warming as CO2.) It also generates 64% of the ammonia emission. Livestock expansion is cited as a key factor driving deforestation; in the Amazon basin 70% of previously forested area is now occupied by pastures and the remainder used for feedcrops.[157] Through deforestation and land degradation, livestock is also driving reductions in biodiversity. Furthermore, the UNEP states that \"methane emissions from global livestock are projected to increase by 60 per cent by 2030 under current practices and consumption patterns.\"[151]',\n",
       " \"Land transformation, the use of land to yield goods and services, is the most substantial way humans alter the Earth's ecosystems, and is the driving force causing biodiversity loss. Estimates of the amount of land transformed by humans vary from 39 to 50%.[158] Land degradation, the long-term decline in ecosystem function and productivity, is estimated to be occurring on 24% of land worldwide, with cropland overrepresented.[159] Land management is the driving factor behind degradation; 1.5\\xa0billion people rely upon the degrading land. Degradation can be through deforestation, desertification, soil erosion, mineral depletion, acidification, or salinization.[115]\",\n",
       " \"Eutrophication, excessive nutrient enrichment in aquatic ecosystems resulting in algal blooms and anoxia, leads to fish kills, loss of biodiversity, and renders water unfit for drinking and other industrial uses. Excessive fertilization and manure application to cropland, as well as high livestock stocking densities cause nutrient (mainly nitrogen and phosphorus) runoff and leaching from agricultural land. These nutrients are major nonpoint pollutants contributing to eutrophication of aquatic ecosystems and pollution of groundwater, with harmful effects on human populations.[160] Fertilisers also reduce terrestrial biodiversity by increasing competition for light, favouring those species that are able to benefit from the added nutrients.[161]Agriculture accounts for 70 percent of withdrawals of freshwater resources.[162][163] Agriculture is a major draw on water from aquifers, and currently draws from those underground water sources at an unsustainable rate. It is long known that aquifers in areas as diverse as northern China, the Upper Ganges and the western US are being depleted, and new research extends these problems to aquifers in Iran, Mexico and Saudi Arabia.[164] Increasing pressure is being placed on water resources by industry and urban areas, meaning that water scarcity is increasing and agriculture is facing the challenge of producing more food for the world's growing population with reduced water resources.[165] Agricultural water usage can also cause major environmental problems, including the destruction of natural wetlands, the spread of water-borne diseases, and land degradation through salinization and waterlogging, when irrigation is performed incorrectly.[166]\",\n",
       " 'Pesticide use has increased since 1950 to 2.5\\xa0million short tons annually worldwide, yet crop loss from pests has remained relatively constant.[167] The World Health Organization estimated in 1992 that three million pesticide poisonings occur annually, causing 220,000 deaths.[168] Pesticides select for pesticide resistance in the pest population, leading to a condition termed the \"pesticide treadmill\" in which pest resistance warrants the development of a new pesticide.[169]',\n",
       " 'An alternative argument is that the way to \"save the environment\" and prevent famine is by using pesticides and intensive high yield farming, a view exemplified by a quote heading the Center for Global Food Issues website: \\'Growing more per acre leaves more land for nature\\'.[170][171] However, critics argue that a trade-off between the environment and a need for food is not inevitable,[172] and that pesticides simply replace good agronomic practices such as crop rotation.[169] The Push–pull agricultural pest management technique involves intercropping, using plant aromas to repel pests from crops (push) and to lure them to a place from which they can then be removed (pull).[173]',\n",
       " 'Climate change and agriculture are interrelated on a global scale. Global warming affects agriculture through changes in average temperatures, rainfall, and weather extremes (like storms and heat waves); changes in pests and diseases; changes in atmospheric carbon dioxide and ground-level ozone concentrations; changes in the nutritional quality of some foods;[174] and changes in sea level.[175] Global warming is already affecting agriculture, with effects unevenly distributed across the world.[176] Future climate change will probably negatively affect crop production in low latitude countries, while effects in northern latitudes may be positive or negative.[176] Global warming will probably increase the risk of food insecurity for some vulnerable groups, such as the poor.[177]',\n",
       " \"Animal husbandry is also responsible for greenhouse gas production of CO2 and a percentage of the world's methane, and future land infertility, and the displacement of wildlife. Agriculture contributes to climate change by anthropogenic emissions of greenhouse gases, and by the conversion of non-agricultural land such as forest for agricultural use.[178] Agriculture, forestry and land-use change contributed around 20 to 25% to global annual emissions in 2010.[179] A range of policies can reduce the risk of negative climate change impacts on agriculture,[180][181] and greenhouse gas emissions from the agriculture sector.[182][183][184]\",\n",
       " 'Current farming methods have resulted in over-stretched water resources, high levels of erosion and reduced soil fertility. There is not enough water to continue farming using current practices; therefore how critical water, land, and ecosystem resources are used to boost crop yields must be reconsidered. A solution would be to give value to ecosystems, recognizing environmental and livelihood tradeoffs, and balancing the rights of a variety of users and interests.[185] Inequities that result when such measures are adopted would need to be addressed, such as the reallocation of water from poor to rich, the clearing of land to make way for more productive farmland, or the preservation of a wetland system that limits fishing rights.[186]',\n",
       " 'Technological advancements help provide farmers with tools and resources to make farming more sustainable.[187] Technology permits innovations like conservation tillage, a farming process which helps prevent land loss to erosion, reduces water pollution, and enhances carbon sequestration.[188] Other potential practices include conservation agriculture, agroforestry, improved grazing, avoided grassland conversion, and biochar.[189][190] Current mono-crop farming practices in the United States preclude widespread adoption of sustainable practices, such as 2-3 crop rotations that incorporate grass or hay with annual crops, unless negative emission goals such as soil carbon sequestration become policy.[191]',\n",
       " \"The International Food Policy Research Institute states that agricultural technologies will have the greatest impact on food production if adopted in combination with each other; using a model that assessed how eleven technologies could impact agricultural productivity, food security and trade by 2050, it found that the number of people at risk from hunger could be reduced by as much as 40% and food prices could be reduced by almost half.[132] The food demand of Earth's projected population, with current climate change predictions, could be satisfied by improvement of agricultural methods, expansion of agricultural areas, and a sustainability-oriented consumer mindset.[192]\",\n",
       " 'Since the 1940s, agricultural productivity has increased dramatically, due largely to the increased use of energy-intensive mechanization, fertilizers and pesticides. The vast majority of this energy input comes from fossil fuel sources.[193] Between the 1960s and the 1980s, the Green Revolution transformed agriculture around the globe, with world grain production increasing significantly (between 70% and 390% for wheat and 60% to 150% for rice, depending on geographic area)[194] as world population doubled. Heavy reliance on petrochemicals has raised concerns that oil shortages could increase costs and reduce agricultural output.[195]',\n",
       " 'Industrialized agriculture depends on fossil fuels in two fundamental ways: direct consumption on the farm and manufacture of inputs used on the farm. Direct consumption includes the use of lubricants and fuels to operate farm vehicles and machinery.[195]',\n",
       " \"Indirect consumption includes the manufacture of fertilizers, pesticides, and farm machinery.[195] In particular, the production of nitrogen fertilizer can account for over half of agricultural energy usage.[199] Together, direct and indirect consumption by US farms accounts for about 2% of the nation's energy use. Direct and indirect energy consumption by U.S. farms peaked in 1979, and has since gradually declined.[195] Food systems encompass not just agriculture but off-farm processing, packaging, transporting, marketing, consumption, and disposal of food and food-related items. Agriculture accounts for less than one-fifth of food system energy use in the US.[200][197]\",\n",
       " 'Agricultural economics is economics as it relates to the \"production, distribution and consumption of [agricultural] goods and services\".[202] Combining agricultural production with general theories of marketing and business as a discipline of study began in the late 1800s, and grew significantly through the 20th century.[203] Although the study of agricultural economics is relatively recent, major trends in agriculture have significantly affected national and international economies throughout history, ranging from tenant farmers and sharecropping in the post-American Civil War Southern United States[204] to the European feudal system of manorialism.[205] In the United States, and elsewhere, food costs attributed to food processing, distribution, and agricultural marketing, sometimes referred to as the value chain, have risen while the costs attributed to farming have declined. This is related to the greater efficiency of farming, combined with the increased level of value addition (e.g. more highly processed products) provided by the supply chain. Market concentration has increased in the sector as well, and although the total effect of the increased market concentration is likely increased efficiency, the changes redistribute economic surplus from producers (farmers) and consumers, and may have negative implications for rural communities.[206]',\n",
       " 'National government policies can significantly change the economic marketplace for agricultural products, in the form of taxation, subsidies, tariffs and other measures.[207] Since at least the 1960s, a combination of trade restrictions, exchange rate policies and subsidies have affected farmers in both the developing and the developed world. In the 1980s, non-subsidized farmers in developing countries experienced adverse effects from national policies that created artificially low global prices for farm products. Between the mid-1980s and the early 2000s, several international agreements limited agricultural tariffs, subsidies and other trade restrictions.[208]',\n",
       " 'However, as of 2009[update], there was still a significant amount of policy-driven distortion in global agricultural product prices. The three agricultural products with the greatest amount of trade distortion were sugar, milk and rice, mainly due to taxation. Among the oilseeds, sesame had the greatest amount of taxation, but overall, feed grains and oilseeds had much lower levels of taxation than livestock products. Since the 1980s, policy-driven distortions have seen a greater decrease among livestock products than crops during the worldwide reforms in agricultural policy.[207] Despite this progress, certain crops, such as cotton, still see subsidies in developed countries artificially deflating global prices, causing hardship in developing countries with non-subsidized farmers.[209] Unprocessed commodities such as corn, soybeans, and cattle are generally graded to indicate quality, affecting the price the producer receives. Commodities are generally reported by production quantities, such as volume, number or weight.[210]',\n",
       " 'Agricultural science is a broad multidisciplinary field of biology that encompasses the parts of exact, natural, economic and social sciences used in the practice and understanding of agriculture. It covers topics such as agronomy, plant breeding and genetics, plant pathology, crop modelling, soil science, entomology, production techniques and improvement, study of pests and their management, and study of adverse environmental effects such as soil degradation, waste management, and bioremediation.[211][212]',\n",
       " 'The scientific study of agriculture began in the 18th century, when Johann Friedrich Mayer conducted experiments on the use of gypsum (hydrated calcium sulphate) as a fertilizer.[213] Research became more systematic when in 1843, John Lawes and Henry Gilbert began a set of long-term agronomy field experiments at Rothamsted Research Station in England; some of them, such as the Park Grass Experiment, are still running.[214][215] In America, the Hatch Act of 1887 provided funding for what it was the first to call \"agricultural science\", driven by farmers\\' interest in fertilizers.[216] In agricultural entomology, the USDA began to research biological control in 1881; it instituted its first large program in 1905, searching Europe and Japan for natural enemies of the gypsy moth and brown-tail moth, establishing parasitoids (such as solitary wasps) and predators of both pests in the USA.[217][218][219]',\n",
       " \"Agricultural policy is the set of government decisions and actions relating to domestic agriculture and imports of foreign agricultural products. Governments usually implement agricultural policies with the goal of achieving a specific outcome in the domestic agricultural product markets. Some overarching themes include risk management and adjustment (including policies related to climate change, food safety and natural disasters), economic stability (including policies related to taxes), natural resources and environmental sustainability (especially water policy), research and development, and market access for domestic commodities (including relations with global organizations and agreements with other countries).[221] Agricultural policy can also touch on food quality, ensuring that the food supply is of a consistent and known quality, food security, ensuring that the food supply meets the population's needs, and conservation. Policy programs can range from financial programs, such as subsidies, to encouraging producers to enroll in voluntary quality assurance programs.[222]\",\n",
       " \"There are many influences on the creation of agricultural policy, including consumers, agribusiness, trade lobbies and other groups. Agribusiness interests hold a large amount of influence over policy making, in the form of lobbying and campaign contributions. Political action groups, including those interested in environmental issues and labor unions, also provide influence, as do lobbying organizations representing individual agricultural commodities.[223] The Food and Agriculture Organization of the United Nations (FAO) leads international efforts to defeat hunger and provides a forum for the negotiation of global agricultural regulations and agreements. Dr. Samuel Jutzi, director of FAO's animal production and health division, states that lobbying by large corporations has stopped reforms that would improve human health and the environment. For example, proposals in 2010 for a voluntary code of conduct for the livestock industry that would have provided incentives for improving standards for health, and environmental regulations, such as the number of animals an area of land can support without long-term damage, were successfully defeated due to large food company pressure.[224]\"]"
      ]
     },
     "execution_count": 3,
     "metadata": {},
     "output_type": "execute_result"
    }
   ],
   "source": [
    "scrape_tool.read_page(link='https://en.wikipedia.org/wiki/Agriculture')"
   ]
  },
  {
   "cell_type": "markdown",
   "metadata": {},
   "source": [
    "<b>Read from english keyword</b>"
   ]
  },
  {
   "cell_type": "code",
   "execution_count": 4,
   "metadata": {
    "collapsed": true
   },
   "outputs": [
    {
     "data": {
      "text/plain": [
       "['Agriculture is the science, art and practice of cultivating plants and livestock.[1] Agriculture was the key development in the rise of sedentary human civilization, whereby farming of domesticated species created food surpluses that enabled people to live in cities. The history of agriculture began thousands of years ago. After gathering wild grains beginning at least 105,000 years ago, nascent farmers began to plant them around 11,500 years ago. Pigs, sheep, and cattle were domesticated over 10,000 years ago. Plants were independently cultivated in at least 11 regions of the world. Industrial agriculture based on large-scale monoculture in the twentieth century came to dominate agricultural output, though about 2\\xa0billion people still depended on subsistence agriculture.',\n",
       " 'Modern agronomy, plant breeding, agrochemicals such as pesticides and fertilizers, and technological developments have sharply increased crop yields, while causing widespread ecological and environmental damage. Selective breeding and modern practices in animal husbandry have similarly increased the output of meat, but have raised concerns about animal welfare and environmental damage. Environmental issues include contributions to global warming, depletion of aquifers, deforestation, antibiotic resistance, and growth hormones in industrial meat production. Agriculture is also very sensitive to environmental degradation, such as biodiversity loss, desertification, soil degradation and global warming, which cause decrease in crop yield.[2] Genetically modified organisms are widely used, although some are banned in certain countries.',\n",
       " 'The major agricultural products can be broadly grouped into foods, fibers, fuels and raw materials (such as rubber). Food classes include cereals (grains), vegetables, fruits, oils, meat, milk, fungi and eggs. Over one-third of the world\\'s workers are employed in agriculture, second only to the service sector, although in recent decades, the global trend of a decreasing number of agricultural workers continues, especially in developing countries where smallholding is being overtaken by industrial agriculture and mechanization. Creating global sustainable food systems which provides food security with sustainable agriculture practices is an international policy priority articulated in Sustainable Development Goal 2: \"Zero hunger\".[3]',\n",
       " 'The word agriculture is a late Middle English adaptation of Latin agricultūra, from ager, \"field\", and cultūra, \"cultivation\" or \"growing\".[4] While agriculture usually refers to human activities, certain species of ant,[5][6] termite and beetle have been cultivating crops for up to 60 million years.[7] Agriculture is defined with varying scopes, in its broadest sense using natural resources to \"produce commodities which maintain life, including food, fiber, forest products, horticultural crops, and their related services\".[8] Thus defined, it includes arable farming, horticulture, animal husbandry and forestry, but horticulture and forestry are in practice often excluded.[8]',\n",
       " 'The development of agriculture enabled the human population to grow many times larger than could be sustained by hunting and gathering.[11] Agriculture began independently in different parts of the globe,[12] and included a diverse range of taxa, in at least 11 separate centres of origin.[9] Wild grains were collected and eaten from at least 105,000 years ago.[13] From around 11,500 years ago, the eight Neolithic founder crops, emmer and einkorn wheat, hulled barley, peas, lentils, bitter vetch, chick peas and flax were cultivated in the Levant. Rice was domesticated in China between 11,500 and 6,200 BC with the earliest known cultivation from 5,700 BC,[14] followed by mung, soy and azuki beans. Sheep were domesticated in Mesopotamia between 13,000 and 11,000 years ago.[15] Cattle were domesticated from the wild aurochs in the areas of modern Turkey and Pakistan some 10,500 years ago.[16] Pig production emerged in Eurasia, including Europe, East Asia and Southwest Asia,[17] where wild boar were first domesticated about 10,500 years ago.[18] In the Andes of South America, the potato was domesticated between 10,000 and 7,000 years ago, along with beans, coca, llamas, alpacas, and guinea pigs. Sugarcane and some root vegetables were domesticated in New Guinea around 9,000 years ago. Sorghum was domesticated in the Sahel region of Africa by 7,000 years ago. Cotton was domesticated in Peru by 5,600 years ago,[19] and was independently domesticated in Eurasia. In Mesoamerica, wild teosinte was bred into maize by 6,000 years ago.[20]Scholars have offered multiple hypotheses to explain the historical origins of agriculture. Studies of the transition from hunter-gatherer to agricultural societies indicate an initial period of intensification and increasing sedentism; examples are the Natufian culture in the Levant, and the Early Chinese Neolithic in China. Then, wild stands that had previously been harvested started to be planted, and gradually came to be domesticated.[21][22][23]',\n",
       " 'In Eurasia, the Sumerians started to live in villages from about 8,000 BC, relying on the Tigris and Euphrates rivers and a canal system for irrigation. Ploughs appear in pictographs around 3,000 BC; seed-ploughs around 2,300 BC. Farmers grew wheat, barley, vegetables such as lentils and onions, and fruits including dates, grapes, and figs.[24] Ancient Egyptian agriculture relied on the Nile River and its seasonal flooding. Farming started in the predynastic period at the end of the Paleolithic, after 10,000 BC. Staple food crops were grains such as wheat and barley, alongside industrial crops such as flax and papyrus.[25][26] In India, wheat, barley and jujube were domesticated by 9,000 BC, soon followed by sheep and goats.[27] Cattle, sheep and goats were domesticated in Mehrgarh culture by 8,000–6,000 BC.[28][29][30] Cotton was cultivated by the 5th–4th millennium BC.[31] Archeological evidence indicates an animal-drawn plough from 2,500 BC in the Indus Valley Civilisation.[32]In China, from the 5th century BC there was a nationwide granary system and widespread silk farming.[33] Water-powered grain mills were in use by the 1st century BC,[34] followed by irrigation.[35] By the late 2nd century, heavy ploughs had been developed with iron ploughshares and mouldboards.[36][37] These spread westwards across Eurasia.[38] Asian rice was domesticated 8,200–13,500 years ago\\xa0– depending on the molecular clock estimate that is used[39]\\xa0– on the Pearl River in southern China with a single genetic origin from the wild rice Oryza rufipogon.[40] In Greece and Rome, the major cereals were wheat, emmer, and barley, alongside vegetables including peas, beans, and olives. Sheep and goats were kept mainly for dairy products.[41][42]',\n",
       " 'In the Americas, crops domesticated in Mesoamerica (apart from teosinte) include squash, beans, and cocoa.[43] Cocoa was being domesticated by the Mayo Chinchipe of the upper Amazon around 3,000 BC.[44]The turkey was probably domesticated in Mexico or the American Southwest.[45] The Aztecs developed irrigation systems, formed terraced hillsides, fertilized their soil, and developed chinampas or artificial islands. The Mayas used extensive canal and raised field systems to farm swampland from 400 BC.[46][47][48][49][50] Coca was domesticated in the Andes, as were the peanut, tomato, tobacco, and pineapple.[43] Cotton was domesticated in Peru by 3,600 BC.[51] Animals including llamas, alpacas, and guinea pigs were domesticated there.[52] In North America, the indigenous people of the East domesticated crops such as sunflower, tobacco,[53] squash and Chenopodium.[54][55] Wild foods including wild rice and maple sugar were harvested.[56] The domesticated strawberry is a hybrid of a Chilean and a North American species, developed by breeding in Europe and North America.[57] The indigenous people of the Southwest and the Pacific Northwest practiced forest gardening and fire-stick farming. The natives controlled fire on a regional scale to create a low-intensity fire ecology that sustained a low-density agriculture in loose rotation; a sort of \"wild\" permaculture.[58][59][60][61] A system of companion planting called the Three Sisters was developed on the Great Plains. The three crops were winter squash, maize, and climbing beans.[62][63]',\n",
       " \"Indigenous Australians, long supposed to have been nomadic hunter-gatherers, practised systematic burning, possibly to enhance natural productivity in fire-stick farming.[64] The Gunditjmara and other groups developed eel farming and fish trapping systems from some 5,000 years ago.[65] There is evidence of 'intensification' across the whole continent over that period.[66] In two regions of Australia, the central west coast and eastern central, early farmers cultivated yams, native millet, and bush onions, possibly in permanent settlements.[67][23]\",\n",
       " 'In the Middle Ages, both in the Islamic world and in Europe, agriculture transformed with improved techniques and the diffusion of crop plants, including the introduction of sugar, rice, cotton and fruit trees (such as the orange) to Europe by way of Al-Andalus.[68][69] After 1492 the Columbian exchange brought New World crops such as maize, potatoes, tomatoes, sweet potatoes and manioc to Europe, and Old World crops such as wheat, barley, rice and turnips, and livestock (including horses, cattle, sheep and goats) to the Americas.[70]',\n",
       " 'Irrigation, crop rotation, and fertilizers advanced from the 17th century with the British Agricultural Revolution, allowing global population to rise significantly. Since 1900 agriculture in developed nations, and to a lesser extent in the developing world, has seen large rises in productivity as mechanization replaces human labor, and assisted by synthetic fertilizers, pesticides, and selective breeding. The Haber-Bosch method allowed the synthesis of ammonium nitrate fertilizer on an industrial scale, greatly increasing crop yields and sustaining a further increase in global population.[71][72] Modern agriculture has raised or encountered ecological, political, and economic issues including water pollution, biofuels, genetically modified organisms, tariffs and farm subsidies, leading to alternative approaches such as the organic movement.[73][74]',\n",
       " 'Pastoralism involves managing domesticated animals. In nomadic pastoralism, herds of livestock are moved from place to place in search of pasture, fodder, and water. This type of farming is practised in arid and semi-arid regions of Sahara, Central Asia and some parts of India.[75]',\n",
       " 'In shifting cultivation, a small area of forest is cleared by cutting and burning the trees. The cleared land is used for growing crops for a few years until the soil becomes too infertile, and the area is abandoned. Another patch of land is selected and the process is repeated. This type of farming is practiced mainly in areas with abundant rainfall where the forest regenerates quickly. This practice is used in Northeast India, Southeast Asia, and the Amazon Basin.[76]',\n",
       " \"Subsistence farming is practiced to satisfy family or local needs alone, with little left over for transport elsewhere. It is intensively practiced in Monsoon Asia and South-East Asia.[77] An estimated 2.5\\xa0billion subsistence farmers worked in 2018, cultivating about 60% of the earth's arable land.[78]\",\n",
       " 'Intensive farming is cultivation to maximise productivity, with a low fallow ratio and a high use of inputs (water, fertilizer, pesticide and automation). It is practiced mainly in developed countries.[79][80]',\n",
       " \"From the twentieth century, intensive agriculture increased productivity. It substituted synthetic fertilizers and pesticides for labor, but caused increased water pollution, and often involved farm subsidies. In recent years there has been a backlash against the environmental effects of conventional agriculture, resulting in the organic, regenerative, and sustainable agriculture movements.[73][82] One of the major forces behind this movement has been the European Union, which first certified organic food in 1991 and began reform of its Common Agricultural Policy (CAP) in 2005 to phase out commodity-linked farm subsidies,[83] also known as decoupling. The growth of organic farming has renewed research in alternative technologies such as integrated pest management, selective breeding,[84] and controlled-environment agriculture.[85][86] Recent mainstream technological developments include genetically modified food.[87] Demand for non-food biofuel crops,[88] development of former farm lands, rising transportation costs, climate change, growing consumer demand in China and India, and population growth,[89] are threatening food security in many parts of the world.[90][91][92][93][94] The International Fund for Agricultural Development posits that an increase in smallholder agriculture may be part of the solution to concerns about food prices and overall food security, given the favorable experience of Vietnam.[95] Soil degradation and diseases such as stem rust are major concerns globally;[96] approximately 40% of the world's agricultural land is seriously degraded.[97][98] By 2015, the agricultural output of China was the largest in the world, followed by the European Union, India and the United States.[81] Economists measure the total factor productivity of agriculture and by this measure agriculture in the United States is roughly 1.7 times more productive than it was in 1948.[99]\",\n",
       " 'Following the three-sector theory, the number of people employed in agriculture and other primary activities (such as fishing) can be more than 80% in the least developed countries, and less than 2% in the most highly developed countries.[100] Since the Industrial Revolution, many countries have made the transition to developed economies, and the proportion of people working in agriculture has steadily fallen. During the 16th century in Europe, for example, between 55 and 75% of the population was engaged in agriculture; by the 19th century, this had dropped to between 35 and 65%.[101] In the same countries today, the figure is less than 10%.[100]At the start of the 21st century, some one billion people, or over 1/3 of the available work force, were employed in agriculture. It constitutes approximately 70% of the global employment of children, and in many countries employs the largest percentage of women of any industry.[102] The service sector overtook the agricultural sector as the largest global employer in 2007.[103]',\n",
       " 'Agriculture, specifically farming, remains a hazardous industry, and farmers worldwide remain at high risk of work-related injuries, lung disease, noise-induced hearing loss, skin diseases, as well as certain cancers related to chemical use and prolonged sun exposure. On industrialized farms, injuries frequently involve the use of agricultural machinery, and a common cause of fatal agricultural injuries in developed countries is tractor rollovers.[104] Pesticides and other chemicals used in farming can also be hazardous to worker health, and workers exposed to pesticides may experience illness or have children with birth defects.[105] As an industry in which families commonly share in work and live on the farm itself, entire families can be at risk for injuries, illness, and death.[106] Ages 0–6 May be an especially vulnerable population in agriculture;[107] common causes of fatal injuries among young farm workers include drowning, machinery and motor accidents, including with all-terrain vehicles.[106][107][108]',\n",
       " 'The International Labour Organization considers agriculture \"one of the most hazardous of all economic sectors\".[102] It estimates that the annual work-related death toll among agricultural employees is at least 170,000, twice the average rate of other jobs. In addition, incidences of death, injury and illness related to agricultural activities often go unreported.[109] The organization has developed the Safety and Health in Agriculture Convention, 2001, which covers the range of risks in the agriculture occupation, the prevention of these risks and the role that individuals and organizations engaged in agriculture should play.[102]',\n",
       " 'In the United States, agriculture has been identified by the National Institute for Occupational Safety and Health as a priority industry sector in the National Occupational Research Agenda to identify and provide intervention strategies for occupational health and safety issues.[110][111]In the European Union, the European Agency for Safety and Health at Work has issued guidelines on implementing health and safety directives in agriculture, livestock farming, horticulture, and forestry.[112] The Agricultural Safety and Health Council of America (ASHCA) also holds a yearly summit to discuss safety.[113]',\n",
       " 'Overall production varies by country as listed.',\n",
       " 'The twenty largest countries by agricultural output (in nominal terms) at peak level as of 2018, according to the IMF and CIA World Factbook.',\n",
       " 'Cropping systems vary among farms depending on the available resources and constraints; geography and climate of the farm; government policy; economic, social and political pressures; and the philosophy and culture of the farmer.[115][116]',\n",
       " 'Shifting cultivation (or slash and burn) is a system in which forests are burnt, releasing nutrients to support cultivation of annual and then perennial crops for a period of several years.[117] Then the plot is left fallow to regrow forest, and the farmer moves to a new plot, returning after many more years (10–20). This fallow period is shortened if population density grows, requiring the input of nutrients (fertilizer or manure) and some manual pest control. Annual cultivation is the next phase of intensity in which there is no fallow period. This requires even greater nutrient and pest control inputs.[117]',\n",
       " 'Further industrialization led to the use of monocultures, when one cultivar is planted on a large acreage. Because of the low biodiversity, nutrient use is uniform and pests tend to build up, necessitating the greater use of pesticides and fertilizers.[116] Multiple cropping, in which several crops are grown sequentially in one year, and intercropping, when several crops are grown at the same time, are other kinds of annual cropping systems known as polycultures.[117]',\n",
       " 'In subtropical and arid environments, the timing and extent of agriculture may be limited by rainfall, either not allowing multiple annual crops in a year, or requiring irrigation. In all of these environments perennial crops are grown (coffee, chocolate) and systems are practiced such as agroforestry. In temperate environments, where ecosystems were predominantly grassland or prairie, highly productive annual farming is the dominant agricultural system.[117]',\n",
       " 'Important categories of food crops include cereals, legumes, forage, fruits and vegetables.[118] Natural fibers include cotton, wool, hemp, silk and flax.[119] Specific crops are cultivated in distinct growing regions throughout the world. Production is listed in millions of metric tons, based on FAO estimates.[118]',\n",
       " 'Animal husbandry is the breeding and raising of animals for meat, milk, eggs, or wool, and for work and transport.[120] Working animals, including horses, mules, oxen, water buffalo, camels, llamas, alpacas, donkeys, and dogs, have for centuries been used to help cultivate fields, harvest crops, wrangle other animals, and transport farm products to buyers.[121]',\n",
       " \"Livestock production systems can be defined based on feed source, as grassland-based, mixed, and landless.[122] As of 2010[update], 30% of Earth's ice- and water-free area was used for producing livestock, with the sector employing approximately 1.3\\xa0billion people. Between the 1960s and the 2000s, there was a significant increase in livestock production, both by numbers and by carcass weight, especially among beef, pigs and chickens, the latter of which had production increased by almost a factor of 10. Non-meat animals, such as milk cows and egg-producing chickens, also showed significant production increases. Global cattle, sheep and goat populations are expected to continue to increase sharply through 2050.[123] Aquaculture or fish farming, the production of fish for human consumption in confined operations, is one of the fastest growing sectors of food production, growing at an average of 9% a year between 1975 and 2007.[124]\",\n",
       " 'During the second half of the 20th century, producers using selective breeding focused on creating livestock breeds and crossbreeds that increased production, while mostly disregarding the need to preserve genetic diversity. This trend has led to a significant decrease in genetic diversity and resources among livestock breeds, leading to a corresponding decrease in disease resistance and local adaptations previously found among traditional breeds.[125]',\n",
       " 'Grassland based livestock production relies upon plant material such as shrubland, rangeland, and pastures for feeding ruminant animals. Outside nutrient inputs may be used, however manure is returned directly to the grassland as a major nutrient source. This system is particularly important in areas where crop production is not feasible because of climate or soil, representing 30–40\\xa0million pastoralists.[117] Mixed production systems use grassland, fodder crops and grain feed crops as feed for ruminant and monogastric (one stomach; mainly chickens and pigs) livestock. Manure is typically recycled in mixed systems as a fertilizer for crops.[122]',\n",
       " 'Landless systems rely upon feed from outside the farm, representing the de-linking of crop and livestock production found more prevalently in Organisation for Economic Co-operation and Development member countries. Synthetic fertilizers are more heavily relied upon for crop production and manure use becomes a challenge as well as a source for pollution.[122] Industrialized countries use these operations to produce much of the global supplies of poultry and pork. Scientists estimate that 75% of the growth in livestock production between 2003 and 2030 will be in confined animal feeding operations, sometimes called factory farming. Much of this growth is happening in developing countries in Asia, with much smaller amounts of growth in Africa.[123] Some of the practices used in commercial livestock production, including the usage of growth hormones, are controversial.[126]',\n",
       " 'Tillage is the practice of breaking up the soil with tools such as the plow or harrow to prepare for planting, for nutrient incorporation, or for pest control. Tillage varies in intensity from conventional to no-till. It may improve productivity by warming the soil, incorporating fertilizer and controlling weeds, but also renders soil more prone to erosion, triggers the decomposition of organic matter releasing CO2, and reduces the abundance and diversity of soil organisms.[127][128]',\n",
       " 'Pest control includes the management of weeds, insects, mites, and diseases. Chemical (pesticides), biological (biocontrol), mechanical (tillage), and cultural practices are used. Cultural practices include crop rotation, culling, cover crops, intercropping, composting, avoidance, and resistance. Integrated pest management attempts to use all of these methods to keep pest populations below the number which would cause economic loss, and recommends pesticides as a last resort.[129]',\n",
       " 'Nutrient management includes both the source of nutrient inputs for crop and livestock production, and the method of use of manure produced by livestock. Nutrient inputs can be chemical inorganic fertilizers, manure, green manure, compost and minerals.[130] Crop nutrient use may also be managed using cultural techniques such as crop rotation or a fallow period. Manure is used either by holding livestock where the feed crop is growing, such as in managed intensive rotational grazing, or by spreading either dry or liquid formulations of manure on cropland or pastures.[131][127]',\n",
       " 'Water management is needed where rainfall is insufficient or variable, which occurs to some degree in most regions of the world.[117] Some farmers use irrigation to supplement rainfall. In other areas such as the Great Plains in the U.S. and Canada, farmers use a fallow year to conserve soil moisture to use for growing a crop in the following year.[132] Agriculture represents 70% of freshwater use worldwide.[133]',\n",
       " 'According to a report by the International Food Policy Research Institute, agricultural technologies will have the greatest impact on food production if adopted in combination with each other; using a model that assessed how eleven technologies could impact agricultural productivity, food security and trade by 2050, the International Food Policy Research Institute found that the number of people at risk from hunger could be reduced by as much as 40% and food prices could be reduced by almost half.[134]',\n",
       " 'Payment for ecosystem services is a method of providing additional incentives to encourage farmers to conserve some aspects of the environment. Measures might include paying for reforestation upstream of a city, to improve the supply of fresh water.[135]',\n",
       " 'Crop alteration has been practiced by humankind for thousands of years, since the beginning of civilization. Altering crops through breeding practices changes the genetic make-up of a plant to develop crops with more beneficial characteristics for humans, for example, larger fruits or seeds, drought-tolerance, or resistance to pests. Significant advances in plant breeding ensued after the work of geneticist Gregor Mendel. His work on dominant and recessive alleles, although initially largely ignored for almost 50 years, gave plant breeders a better understanding of genetics and breeding techniques. Crop breeding includes techniques such as plant selection with desirable traits, self-pollination and cross-pollination, and molecular techniques that genetically modify the organism.[136]',\n",
       " 'Domestication of plants has, over the centuries increased yield, improved disease resistance and drought tolerance, eased harvest and improved the taste and nutritional value of crop plants. Careful selection and breeding have had enormous effects on the characteristics of crop plants. Plant selection and breeding in the 1920s and 1930s improved pasture (grasses and clover) in New Zealand. Extensive X-ray and ultraviolet induced mutagenesis efforts (i.e. primitive genetic engineering) during the 1950s produced the modern commercial varieties of grains such as wheat, corn (maize) and barley.[137][138]',\n",
       " 'The Green Revolution popularized the use of conventional hybridization to sharply increase yield by creating \"high-yielding varieties\". For example, average yields of corn (maize) in the US have increased from around 2.5 tons per hectare (t/ha) (40 bushels per acre) in 1900 to about 9.4 t/ha (150 bushels per acre) in 2001. Similarly, worldwide average wheat yields have increased from less than 1 t/ha in 1900 to more than 2.5 t/ha in 1990. South American average wheat yields are around 2 t/ha, African under 1 t/ha, and Egypt and Arabia up to 3.5 to 4 t/ha with irrigation. In contrast, the average wheat yield in countries such as France is over 8 t/ha. Variations in yields are due mainly to variation in climate, genetics, and the level of intensive farming techniques (use of fertilizers, chemical pest control, growth control to avoid lodging).[139][140][141]',\n",
       " 'Genetically modified organisms (GMO) are organisms whose genetic material has been altered by genetic engineering techniques generally known as recombinant DNA technology. Genetic engineering has expanded the genes available to breeders to use in creating desired germlines for new crops. Increased durability, nutritional content, insect and virus resistance and herbicide tolerance are a few of the attributes bred into crops through genetic engineering.[142] For some, GMO crops cause food safety and food labeling concerns. Numerous countries have placed restrictions on the production, import or use of GMO foods and crops.[143] Currently a global treaty, the Biosafety Protocol, regulates the trade of GMOs. There is ongoing discussion regarding the labeling of foods made from GMOs, and while the EU currently requires all GMO foods to be labeled, the US does not.[144]',\n",
       " 'Herbicide-resistant seed has a gene implanted into its genome that allows the plants to tolerate exposure to herbicides, including glyphosate. These seeds allow the farmer to grow a crop that can be sprayed with herbicides to control weeds without harming the resistant crop. Herbicide-tolerant crops are used by farmers worldwide.[145] With the increasing use of herbicide-tolerant crops, comes an increase in the use of glyphosate-based herbicide sprays. In some areas glyphosate resistant weeds have developed, causing farmers to switch to other herbicides.[146][147] Some studies also link widespread glyphosate usage to iron deficiencies in some crops, which is both a crop production and a nutritional quality concern, with potential economic and health implications.[148]',\n",
       " 'Other GMO crops used by growers include insect-resistant crops, which have a gene from the soil bacterium Bacillus thuringiensis (Bt), which produces a toxin specific to insects. These crops resist damage by insects.[149] Some believe that similar or better pest-resistance traits can be acquired through traditional breeding practices, and resistance to various pests can be gained through hybridization or cross-pollination with wild species. In some cases, wild species are the primary source of resistance traits; some tomato cultivars that have gained resistance to at least 19 diseases did so through crossing with wild populations of tomatoes.[150]',\n",
       " 'Agriculture imposes multiple external costs upon society through effects such as pesticide damage to nature (especially herbicides and insecticides), nutrient runoff, excessive water usage, and loss of natural environment. A 2000 assessment of agriculture in the UK determined total external costs for 1996 of £2,343\\xa0million, or £208 per hectare.[151] A 2005 analysis of these costs in the US concluded that cropland imposes approximately $5 to $16\\xa0billion ($30 to $96 per hectare), while livestock production imposes $714\\xa0million.[152] Both studies, which focused solely on the fiscal impacts, concluded that more should be done to internalize external costs. Neither included subsidies in their analysis, but they noted that subsidies also influence the cost of agriculture to society.[151][152]',\n",
       " 'Agriculture seeks to increase yield and to reduce costs. Yield increases with inputs such as fertilisers and removal of pathogens, predators, and competitors (such as weeds). Costs decrease with increasing scale of farm units, such as making fields larger; this means removing hedges, ditches and other areas of habitat. Pesticides kill insects, plants and fungi. These and other measures have cut biodiversity to very low levels on intensively farmed land.[153]',\n",
       " 'In 2010, the International Resource Panel of the United Nations Environment Programme assessed the environmental impacts of consumption and production. It found that agriculture and food consumption are two of the most important drivers of environmental pressures, particularly habitat change, climate change, water use and toxic emissions. Agriculture is the main source of toxins released into the environment, including insecticides, especially those used on cotton.[154] The 2011 UNEP Green Economy report states that \"[a]agricultural operations, excluding land use changes, produce approximately 13 per cent of anthropogenic global GHG emissions. This includes GHGs emitted by the use of inorganic fertilizers agro-chemical pesticides and herbicides; (GHG emissions resulting from production of these inputs are included in industrial emissions); and fossil fuel-energy inputs.[155] \"On average we find that the total amount of fresh residues from agricultural and forestry production for second- generation biofuel production amounts to 3.8 billion tonnes per year between 2011 and 2050 (with an average annual growth rate of 11 per cent throughout the period analysed, accounting for higher growth during early years, 48 per cent for 2011–2020 and an average 2 per cent annual expansion after 2020).\"[155]',\n",
       " 'A senior UN official, Henning Steinfeld, said that \"Livestock are one of the most significant contributors to today\\'s most serious environmental problems\".[156] Livestock production occupies 70% of all land used for agriculture, or 30% of the land surface of the planet. It is one of the largest sources of greenhouse gases, responsible for 18% of the world\\'s greenhouse gas emissions as measured in CO2 equivalents. By comparison, all transportation emits 13.5% of the CO2. It produces 65% of human-related nitrous oxide (which has 296 times the global warming potential of CO2,) and 37% of all human-induced methane (which is 23 times as warming as CO2.) It also generates 64% of the ammonia emission. Livestock expansion is cited as a key factor driving deforestation; in the Amazon basin 70% of previously forested area is now occupied by pastures and the remainder used for feedcrops.[157] Through deforestation and land degradation, livestock is also driving reductions in biodiversity. Furthermore, the UNEP states that \"methane emissions from global livestock are projected to increase by 60 per cent by 2030 under current practices and consumption patterns.\"[155]',\n",
       " \"Land transformation, the use of land to yield goods and services, is the most substantial way humans alter the Earth's ecosystems, and is considered the driving force in the loss of biodiversity. Estimates of the amount of land transformed by humans vary from 39 to 50%.[158] Land degradation, the long-term decline in ecosystem function and productivity, is estimated to be occurring on 24% of land worldwide, with cropland overrepresented.[159] The UN-FAO report cites land management as the driving factor behind degradation and reports that 1.5\\xa0billion people rely upon the degrading land. Degradation can be deforestation, desertification, soil erosion, mineral depletion, or chemical degradation (acidification and salinization).[117]\",\n",
       " 'Agriculture lead to rise in Zoonotic disease like the Coronavirus disease 2019, by degrading natural buffers between humans and animals, reducing biodiversity and creating big groups of genetically similar animals.[160][161]',\n",
       " \"Eutrophication, excessive nutrients in aquatic ecosystems resulting in algal bloom and anoxia, leads to fish kills, loss of biodiversity, and renders water unfit for drinking and other industrial uses. Excessive fertilization and manure application to cropland, as well as high livestock stocking densities cause nutrient (mainly nitrogen and phosphorus) runoff and leaching from agricultural land. These nutrients are major nonpoint pollutants contributing to eutrophication of aquatic ecosystems and pollution of groundwater, with harmful effects on human populations.[162] Fertilisers also reduce terrestrial biodiversity by increasing competition for light, favouring those species that are able to benefit from the added nutrients.[163]Agriculture accounts for 70 percent of withdrawals of freshwater resources.[164][165] Agriculture is a major draw on water from aquifers, and currently draws from those underground water sources at an unsustainable rate. It is long known that aquifers in areas as diverse as northern China, the Upper Ganges and the western US are being depleted, and new research extends these problems to aquifers in Iran, Mexico and Saudi Arabia.[166] Increasing pressure is being placed on water resources by industry and urban areas, meaning that water scarcity is increasing and agriculture is facing the challenge of producing more food for the world's growing population with reduced water resources.[167] Agricultural water usage can also cause major environmental problems, including the destruction of natural wetlands, the spread of water-borne diseases, and land degradation through salinization and waterlogging, when irrigation is performed incorrectly.[168]\",\n",
       " 'Pesticide use has increased since 1950 to 2.5\\xa0million short tons annually worldwide, yet crop loss from pests has remained relatively constant.[169] The World Health Organization estimated in 1992 that three million pesticide poisonings occur annually, causing 220,000 deaths.[170] Pesticides select for pesticide resistance in the pest population, leading to a condition termed the \"pesticide treadmill\" in which pest resistance warrants the development of a new pesticide.[171]',\n",
       " 'An alternative argument is that the way to \"save the environment\" and prevent famine is by using pesticides and intensive high yield farming, a view exemplified by a quote heading the Center for Global Food Issues website: \\'Growing more per acre leaves more land for nature\\'.[172][173] However, critics argue that a trade-off between the environment and a need for food is not inevitable,[174] and that pesticides simply replace good agronomic practices such as crop rotation.[171] The Push–pull agricultural pest management technique involves intercropping, using plant aromas to repel pests from crops (push) and to lure them to a place from which they can then be removed (pull).[175]',\n",
       " 'Climate change and agriculture are interrelated on a global scale. Global warming affects agriculture through changes in average temperatures, rainfall, and weather extremes (like storms and heat waves); changes in pests and diseases; changes in atmospheric carbon dioxide and ground-level ozone concentrations; changes in the nutritional quality of some foods;[176] and changes in sea level.[177] Global warming is already affecting agriculture, with effects unevenly distributed across the world.[178] Future climate change will probably negatively affect crop production in low latitude countries, while effects in northern latitudes may be positive or negative.[178] Global warming will probably increase the risk of food insecurity for some vulnerable groups, such as the poor.[179]',\n",
       " \"Animal husbandry is also responsible for greenhouse gas production of CO2 and a percentage of the world's methane, and future land infertility, and the displacement of wildlife. Agriculture contributes to climate change by anthropogenic emissions of greenhouse gases, and by the conversion of non-agricultural land such as forest for agricultural use.[180] Agriculture, forestry and land-use change contributed around 20 to 25% to global annual emissions in 2010.[181] A range of policies can reduce the risk of negative climate change impacts on agriculture,[182][183] and greenhouse gas emissions from the agriculture sector.[184][185][186]\",\n",
       " 'Current farming methods have resulted in over-stretched water resources, high levels of erosion and reduced soil fertility. There is not enough water to continue farming using current practices; therefore how critical water, land, and ecosystem resources are used to boost crop yields must be reconsidered. A solution would be to give value to ecosystems, recognizing environmental and livelihood tradeoffs, and balancing the rights of a variety of users and interests.[187] Inequities that result when such measures are adopted would need to be addressed, such as the reallocation of water from poor to rich, the clearing of land to make way for more productive farmland, or the preservation of a wetland system that limits fishing rights.[188]',\n",
       " 'Technological advancements help provide farmers with tools and resources to make farming more sustainable.[189] Technology permits innovations like conservation tillage, a farming process which helps prevent land loss to erosion, reduces water pollution, and enhances carbon sequestration.[190] Other potential practices include conservation agriculture, agroforestry, improved grazing, avoided grassland conversion, and biochar.[191][192] Current mono-crop farming practices in the United States preclude widespread adoption of sustainable practices, such as 2-3 crop rotations that incorporate grass or hay with annual crops, unless negative emission goals such as soil carbon sequestration become policy.[193]',\n",
       " \"According to a report by the International Food Policy Research Institute (IFPRI),[134] agricultural technologies will have the greatest impact on food production if adopted in combination with each other; using a model that assessed how eleven technologies could impact agricultural productivity, food security and trade by 2050, IFPRI found that the number of people at risk from hunger could be reduced by as much as 40% and food prices could be reduced by almost half.[134] The caloric demand of Earth's projected population, with current climate change predictions, can be satisfied by additional improvement of agricultural methods, expansion of agricultural areas, and a sustainability-oriented consumer mindset.[194]\",\n",
       " 'Since the 1940s, agricultural productivity has increased dramatically, due largely to the increased use of energy-intensive mechanization, fertilizers and pesticides. The vast majority of this energy input comes from fossil fuel sources.[195] Between the 1960s and the 1980s, the Green Revolution transformed agriculture around the globe, with world grain production increasing significantly (between 70% and 390% for wheat and 60% to 150% for rice, depending on geographic area)[196] as world population doubled. Heavy reliance on petrochemicals has raised concerns that oil shortages could increase costs and reduce agricultural output.[197]',\n",
       " 'Industrialized agriculture depends on fossil fuels in two fundamental ways: direct consumption on the farm and manufacture of inputs used on the farm. Direct consumption includes the use of lubricants and fuels to operate farm vehicles and machinery.[197]',\n",
       " \"Indirect consumption includes the manufacture of fertilizers, pesticides, and farm machinery.[197] In particular, the production of nitrogen fertilizer can account for over half of agricultural energy usage.[201] Together, direct and indirect consumption by US farms accounts for about 2% of the nation's energy use. Direct and indirect energy consumption by U.S. farms peaked in 1979, and has since gradually declined.[197] Food systems encompass not just agriculture but off-farm processing, packaging, transporting, marketing, consumption, and disposal of food and food-related items. Agriculture accounts for less than one-fifth of food system energy use in the US.[202][199]\",\n",
       " 'Agricultural economics is economics as it relates to the \"production, distribution and consumption of [agricultural] goods and services\".[204] Combining agricultural production with general theories of marketing and business as a discipline of study began in the late 1800s, and grew significantly through the 20th century.[205] Although the study of agricultural economics is relatively recent, major trends in agriculture have significantly affected national and international economies throughout history, ranging from tenant farmers and sharecropping in the post-American Civil War Southern United States[206] to the European feudal system of manorialism.[207] In the United States, and elsewhere, food costs attributed to food processing, distribution, and agricultural marketing, sometimes referred to as the value chain, have risen while the costs attributed to farming have declined. This is related to the greater efficiency of farming, combined with the increased level of value addition (e.g. more highly processed products) provided by the supply chain. Market concentration has increased in the sector as well, and although the total effect of the increased market concentration is likely increased efficiency, the changes redistribute economic surplus from producers (farmers) and consumers, and may have negative implications for rural communities.[208]',\n",
       " 'National government policies can significantly change the economic marketplace for agricultural products, in the form of taxation, subsidies, tariffs and other measures.[209] Since at least the 1960s, a combination of trade restrictions, exchange rate policies and subsidies have affected farmers in both the developing and the developed world. In the 1980s, non-subsidized farmers in developing countries experienced adverse effects from national policies that created artificially low global prices for farm products. Between the mid-1980s and the early 2000s, several international agreements limited agricultural tariffs, subsidies and other trade restrictions.[210]',\n",
       " 'However, as of 2009[update], there was still a significant amount of policy-driven distortion in global agricultural product prices. The three agricultural products with the greatest amount of trade distortion were sugar, milk and rice, mainly due to taxation. Among the oilseeds, sesame had the greatest amount of taxation, but overall, feed grains and oilseeds had much lower levels of taxation than livestock products. Since the 1980s, policy-driven distortions have seen a greater decrease among livestock products than crops during the worldwide reforms in agricultural policy.[209] Despite this progress, certain crops, such as cotton, still see subsidies in developed countries artificially deflating global prices, causing hardship in developing countries with non-subsidized farmers.[211] Unprocessed commodities such as corn, soybeans, and cattle are generally graded to indicate quality, affecting the price the producer receives. Commodities are generally reported by production quantities, such as volume, number or weight.[212]',\n",
       " 'Agricultural science is a broad multidisciplinary field of biology that encompasses the parts of exact, natural, economic and social sciences used in the practice and understanding of agriculture. It covers topics such as agronomy, plant breeding and genetics, plant pathology, crop modelling, soil science, entomology, production techniques and improvement, study of pests and their management, and study of adverse environmental effects such as soil degradation, waste management, and bioremediation.[213][214]',\n",
       " 'The scientific study of agriculture began in the 18th century, when Johann Friedrich Mayer conducted experiments on the use of gypsum (hydrated calcium sulphate) as a fertilizer.[215] Research became more systematic when in 1843, John Lawes and Henry Gilbert began a set of long-term agronomy field experiments at Rothamsted Research Station in England; some of them, such as the Park Grass Experiment, are still running.[216][217] In America, the Hatch Act of 1887 provided funding for what it was the first to call \"agricultural science\", driven by farmers\\' interest in fertilizers.[218] In agricultural entomology, the USDA began to research biological control in 1881; it instituted its first large program in 1905, searching Europe and Japan for natural enemies of the gypsy moth and brown-tail moth, establishing parasitoids (such as solitary wasps) and predators of both pests in the USA.[219][220][221]',\n",
       " \"Agricultural policy is the set of government decisions and actions relating to domestic agriculture and imports of foreign agricultural products. Governments usually implement agricultural policies with the goal of achieving a specific outcome in the domestic agricultural product markets. Some overarching themes include risk management and adjustment (including policies related to climate change, food safety and natural disasters), economic stability (including policies related to taxes), natural resources and environmental sustainability (especially water policy), research and development, and market access for domestic commodities (including relations with global organizations and agreements with other countries).[223] Agricultural policy can also touch on food quality, ensuring that the food supply is of a consistent and known quality, food security, ensuring that the food supply meets the population's needs, and conservation. Policy programs can range from financial programs, such as subsidies, to encouraging producers to enroll in voluntary quality assurance programs.[224]\",\n",
       " \"There are many influences on the creation of agricultural policy, including consumers, agribusiness, trade lobbies and other groups. Agribusiness interests hold a large amount of influence over policy making, in the form of lobbying and campaign contributions. Political action groups, including those interested in environmental issues and labor unions, also provide influence, as do lobbying organizations representing individual agricultural commodities.[225] The Food and Agriculture Organization of the United Nations (FAO) leads international efforts to defeat hunger and provides a forum for the negotiation of global agricultural regulations and agreements. Dr. Samuel Jutzi, director of FAO's animal production and health division, states that lobbying by large corporations has stopped reforms that would improve human health and the environment. For example, proposals in 2010 for a voluntary code of conduct for the livestock industry that would have provided incentives for improving standards for health, and environmental regulations, such as the number of animals an area of land can support without long-term damage, were successfully defeated due to large food company pressure.[226]\"]"
      ]
     },
     "execution_count": 4,
     "metadata": {},
     "output_type": "execute_result"
    }
   ],
   "source": [
    "scrape_tool.read_page(search_keyword='agriculture')"
   ]
  },
  {
   "cell_type": "markdown",
   "metadata": {},
   "source": [
    "<b>Read from english pdf document</b>"
   ]
  },
  {
   "cell_type": "code",
   "execution_count": null,
   "metadata": {
    "scrolled": false
   },
   "outputs": [],
   "source": [
    "scrape_tool.read_page(document='document_name.pdf')"
   ]
  },
  {
   "cell_type": "markdown",
   "metadata": {},
   "source": [
    "<b>Read from hindi webpage</b>"
   ]
  },
  {
   "cell_type": "code",
   "execution_count": 6,
   "metadata": {
    "collapsed": true
   },
   "outputs": [
    {
     "data": {
      "text/plain": [
       "['इमेज स्रोत, AFP',\n",
       " '\"मैंने इस तरह के डरावने हालात इससे पहले कभी नहीं देखे थे. मुझे तो यक़ीन भी नहीं हो रहा है कि हमलोग भारत की राजधानी में हैं.\" यह कहना था जयंत मल्होत्रा का.',\n",
       " 'उन्होंने बीबीसी से बात करते हुए कहा, \"लोगों को ऑक्सीजन नहीं मिल रही है और वो जानवरों की तरह मर रहे हैं.\\'\\'',\n",
       " 'कोरोना वायरस के लक्षण क्या हैं और कैसे कर सकते हैं बचाव',\n",
       " 'कोरोना वैक्सीन: वो बातें जो आपको जाननी चाहिए',\n",
       " 'जयंत मल्होत्रा दिल्ली के एक श्मशान घाट में लोगों के अंतिम संस्कार में मदद करते हैं. दिल्ली के क़रीब-क़रीब सारे अस्पताल कोरोना मरीज़ों की रोज़ बढ़ती तादाद से जूझ रहे हैं. ',\n",
       " 'समाप्त',\n",
       " 'सोमवार को भारत में लगातार पाँचवे दिन भी तीन लाख से ज़्यादा नए मामले सामने आए हैं. इस समय दुनिया में सबसे ज़्यादा मामले रोज़ाना भारत में आ रहे हैं.',\n",
       " 'हालंकि मंगलवार को कोरोना संक्रमितों की संख्या में क़रीब 30 हज़ार की कमी देखी गई.',\n",
       " 'पिछले दो हफ़्ते में भारत में कोरोना संक्रमितों की संख्या में अप्रत्याशित उछाल देखी जा रही है वहीं चीन, अमेरिका और यूरोप के कई देशों में इस दौरान कोरोना से मरने वालों की संख्या में कमी आई है.',\n",
       " 'कई देश लॉकडाउन हटा रहे हैं. यूरोपीय यूनियन ने तो अमेरिका से आने वालों को इजाज़त देने के सभी संकेत दिए हैं, जिन्होंने कोरोना का टीका लगवा लिया है.',\n",
       " 'लेकिन क्या भारत में कोरोना के कारण ख़राब होते हालात दुनिया के लिए भी एक बड़ी समस्या बन सकते हैं?',\n",
       " 'इमेज स्रोत, Reuters',\n",
       " 'कोरोना के मरने वालों की संख्या लगातार बढ़ रही है. इसलिए श्मशान घाट में एक ही साथ कई शवों को जलाया जा रहा है.',\n",
       " 'इस साल फ़रवरी में रोज़ाना कोरोना संक्रमितों की संख्या क़रीब 12 हज़ार थी और मरने वालों की संख्या कुछ सौ थी, तब लोगों को उम्मीद हो गई थी कि भारत में कोरोना का सबसे बुरा दौर गुज़र चुका है.',\n",
       " 'लेकिन 17 अप्रैल के बाद से भारत में रोज़ाना दो लाख से ज़्यादा संक्रमण के मामले आ रहे हैं जबकि पिछले साल सितंबर में जब कोरोना अपने पीक पर था तब भारत में रोज़ाना क़रीब 93 हज़ार मामले आ रहे थे.',\n",
       " 'कोरोना वैक्सीन: क्या वैक्सीन लेने के बाद भी मुझे कोविड हो सकता है? ',\n",
       " 'कोविड-19 वैक्सीन कितनी सुरक्षित है? ',\n",
       " 'इस दौरान रोज़ाना मरने वालों की संख्या भी बढ़ी है जो 25 अप्रैल तक औसतन 2336 हो गई है. पिछले साल के पीक में रोज़ाना मरने वालों की लगभग दो गुना.',\n",
       " 'बीबीसी के स्वास्थ्य और विज्ञान संवाददाता जेम्स गैलाघर के अनुसार स्पष्ट है कि भारत संघर्ष कर रहा है. सामने जो डर सता रहा है वो मुझे उस समय की याद दिला रहा है जब कोरोना महामारी की शुरुआत हुई थी और लोगों को इसके बारे में कोई ज़्यादा जानकारी नहीं थी.',\n",
       " 'जेम्स कहते हैं, \"पूरे मेडिकल केयर से बाद भी कोरोना जानलेवा हो सकता है, लेकिन जब अस्पतालों में जगह भी नहीं है तब तो वो लोग भी मारे जाते हैं जिनकी ज़िंदगी शायद बचाई जा सकती थी.\"',\n",
       " 'दिल्ली में हालात ज़्यादा ख़राब हैं जहाँ एक भी आईसीयू बेड ख़ाली नहीं है.',\n",
       " 'इमेज स्रोत, AFP',\n",
       " 'दिल्ली के कई अस्पताल अब कोरोना मरीज़ों को एडमिट नहीं कर रहे हैं.',\n",
       " 'कई अस्पताल नए मरीज़ों को एडमिट करने से मना कर रहे हैं और कम से कम दिल्ली के दो अस्पतालों में तो ऑक्सीजन की सप्लाई रुक जाने से मरीज़ों की मौत हो गई.',\n",
       " 'कोरोना संक्रमितों के परिजन सोशल मीडिया पर लोगों से अस्पताल में बेड, ऑक्सीजन सिलेंडर और वेंटिलेटर के लिए गुहार लगा रहे हैं.',\n",
       " 'कोरोना वायरसः कमज़ोर होते इम्यून सिस्टम को कैसे बचाएं?',\n",
       " 'कोरोना की टेस्ट करने वाले लैब की हालत भी बहुत ख़राब हैं क्योंकि टेस्ट कराने वालों की संख्या रोज़ाना बढ़ रही है और इस कारण टेस्ट के नतीजे आने में कम से कम 3-4 दिन लग रहे हैं.',\n",
       " 'श्मशान घाट में शवों का आना लगा हुआ है और वहां 24 घंटे दाह संस्कार किया जा रहा है.',\n",
       " 'इमेज स्रोत, Getty Images',\n",
       " 'सरकार पर आरोप है कि वो कोरोना से मरने वालों की संख्या को कम करके बता रही है.',\n",
       " 'दिल्ली के अलावा दूसरे शहरों में भी कम-ओ-बेश यही नज़ारा है. अभी तक आधिकारिक रूप से भारत में कोरोना संक्रमितों की संख्या एक करोड़ 70 लाख है और मरने वालों की संख्या एक लाख 92 हज़ार हो गई है.',\n",
       " 'लेकिन इसकी बहुत ज़्यादा आशंका है कि यह आंकड़े सही नहीं हैं और मरने वालों की संख्या इससे कहीं ज़्यादा है.',\n",
       " 'भारत की आबादी इतनी ज़्यादा है और लॉजिस्टिक की इतनी समस्या है कि सभी कोरोना मरीज़ों का टेस्ट करना और मरने वालों का सही-सही रिकॉर्ड रखना बहुत मुश्किल है. इसीलिए यूरोप और अमेरिका की तुलना में भारत में कोरोना की समस्या का सही आकलन करना बहुत मुश्किल है.',\n",
       " 'इमेज स्रोत, Getty Images',\n",
       " 'ऑक्सीजन की कमी के कारण बहुत लोगों की मौत हो गई जो कि शायद बच सकते थे',\n",
       " 'जेम्स गैलाघर कहते हैं, \"दुख की बात है कि अगले कुछ हफ़्तों में हालात और ख़राब होंगे. एक सबक़ जो हमने बार-बार सीखा है वो ये है कि संक्रमितों की संख्या बढ़ने का मतलब है कि कुछ हफ़्तों के बाद मरने वालों की संख्या में भी इज़ाफ़ा होगा.\"',\n",
       " 'वो कहते हैं, \"अगर भारत किसी तरह वायरस को फैलने से रोक भी लेता है तो भी मरने वालों की संख्या बढ़ती रहेगी क्योंकि इतनी अधिक संख्या में लोग पहले से ही संक्रमित हो चुके हैं. अभी तो इस बात के भी कोई आसार नहीं हैं कि संक्रमितों की संख्या में कमी आ रही है. संक्रमितों की संख्या कितनी बढ़ेगी यह इस बात पर निर्भर करता है कि लॉकडाउन और वैक्सीनेशन से कितनी सफलता मिलती है.\\'\\'',\n",
       " 'कोरोना से जान गंवाने वालों के अंतिम संस्कार के लिए भी लंबी वेटिंग है',\n",
       " 'यह याद रखना चाहिए कि भारत में अभी तक ना ही संक्रमण का पीक आया है और ना ही मृतकों का. जॉन्स हॉपकिन्स यूनिवर्सिटी के अनुसार 26 अप्रैल तक अमेरिका में तीन करोड़ 20 लाख लोग संक्रमित हो चुके हैं और पाँच लाख 72 हज़ार से ज़्यादा लोग मारे जा चुके है .',\n",
       " 'हर 10 लाख की आबादी पर मरने वालों की संख्या के हिसाब से भी भारत अभी यूरोप और लैटिन अमेरिका के कई देशों की तुलना में पीछे है.',\n",
       " 'लेकिन भारत की आबादी इतनी ज़्यादा है और हाल के दिनों में संक्रमितों और इससे मरने वालों की संख्या में इस क़दर इज़ाफ़ा हुआ है कि इससे दुनिया भर को चिंता हो रही है.',\n",
       " 'संक्रमित रोगों के एक विशेषज्ञ प्रोफ़ेसर गौतम मेनन ने बीबीसी को बताया कि \"हमने इस तरह के हालात इससे पहले कभी नहीं देखे जहां कि हेल्थ सिस्टम इतनी बड़ी संख्या में मरीजों के कारण पूरी तरह चरमरा जाए.\"',\n",
       " 'जब हेल्थ सिस्टम ही ध्वस्त हो जाए तो लोग कई कारणों से अधिक संख्या में मरने लगते हैं और इनकी मौत का ज़िक्र कोरोना से मरने वालों की लिस्ट में शामिल नहीं होता है.',\n",
       " ' इसके अलावा भारत में स्वास्थ्य सेवाएं देने वालों के सामने भी इतनी बड़ी आबादी को सेवा देने की चुनौती होती है और भारत में कई लोग ऐसे हैं जिनको किसी भी तरह की कोई स्वास्थ्य सेवा हासिल नहीं है.',\n",
       " 'कोरोना महामारी एक वैश्विक ख़तरा है.',\n",
       " 'शुरुआत के दिनों से ही वैज्ञानिकों और स्वास्थ्य विशेषज्ञों ने कह दिया था कि हवाई यात्रा और अर्थव्यवस्था के ग्लोबल होने के कारण यह वायरस एक से दूसरे देश में फैल रहा है.',\n",
       " 'इमेज स्रोत, Getty Images',\n",
       " 'वैश्विक अर्थव्यवस्था और अंतरराष्ट्रीय यात्रा के कारण कोरोना वायरस की राष्ट्रीय सीमाओं में बांधकर नहीं रखा जा सकता है',\n",
       " 'राष्ट्रीय सीमाओं ने अभी तक इस वायरस को रोकने में कोई सफलता हासिल नहीं की है और यह व्यावहारिक भी नहीं है अगर असंभव नहीं है तो, कि यात्रा पर पूरी तरह पाबंदी लगा दी जाए या फिर सीमाओं को अनिश्चितकाल के लिए बंद कर दिया जाए.',\n",
       " 'इसलिए जो भारत में होता है वो निश्चित तौर पर दुनिया में भी फैलेगा, ख़ासकर के जब भारत इस बात पर गर्व करता है कि भारतीय या भारतीय मूल के सबसे ज़्यादा लोग दुनिया भर में फैले हुए हैं.',\n",
       " 'बुखार खांसी कोरोना है, कैसे पता चलेगा?',\n",
       " 'जेम्स गैलाघर कहते हैं, \"इस महामारी ने हमें ये सिखाया है कि एक देश की समस्या सभी की समस्या है. कोरोना वायरस सबसे पहले चीन के एक शहर (वुहान) में पाया गया था, लेकिन अब यह वायरस हर जगह फैल चुका है. भारत में कोरोना संक्रमितों की रिकॉर्ड नंबर में संख्या का मतलब है कि यहां से दूसरे देशों में भी संक्रमण फैल सकता है. इसीलिए कई देशों ने भारत से यात्रा पर पाबंदी लगा दी है और संक्रमितों की संख्या में इज़ाफ़ा होने के कारण वायरस के नए वैरिएंट्स को पैर पसारने में मदद मिलती है.\"',\n",
       " 'भारत में कोरोना के ख़राब होते हालात दुनिया भर में कोरोना के ख़िलाफ़ चल रही लड़ाई के लिए एक बुरी ख़बर हो सकती है.',\n",
       " 'कैम्ब्रिज यूनिवर्सिटी में क्लिनिकल बायोलोजी के प्रोफ़ेसर रवि गुप्ता कहते हैं, \"भारत की ज़्यादा आबादी और घनत्व सबसे बेहतरीन जगह है इस वायरस को म्यूटेशन के लिए प्रयोग करने का.\"',\n",
       " 'अगर वायरस को इतने बेहतरीन वातावरण में म्यूटेट करने का मौक़ा मिलता है तो फिर इससे वायरस की क्षमता में दुनिया भर में इ़ज़ाफ़ा हो जाएगा.',\n",
       " 'जेम्स कहते हैं, \"वायरस को म्यूटेट होने का जितना मौक़ा मिलेगा, उसे लोगों को संक्रमित करने का उतना ही ज़्यादा मौक़ा मिलेगा, यहा तक कि वो उन लोगों को भी संक्रमित कर सकता है जिन्होंने वैक्सीन लगवा ली है.\"',\n",
       " 'इमेज स्रोत, Getty Images',\n",
       " 'भारत की अधिक जनसंख्या और कम जगह में ज़्यादा लोगों के रहने के कारण भी इस महामारी को फैलने में मदद मिलती है.',\n",
       " 'यूके, ब्राज़ील और दक्षिण अफ़्रीका के नए वैरिएंट्स ने पहले ही दुनिया भर में फैलकर समस्या खड़ी कर रखी है और अब प्रोफ़ेसर मेनन भारत में नए वैरियंट्स की चेतावनी देते हुए कहते हैं, \"कुछ वायरस प्रोटीन से संबंधित होते हैं जिसके कारण उन वायरस को कोशिकाओं से जुड़ने का मौक़ा मिल जाता है और साथ ही वो एंटीबॉडीज़ के बंधन को भी कमज़ोर करने में सफल हो जाते हैं.\\'\\'',\n",
       " '\"वायरस के वैरिएंट्स को फैलने से रोकना लगभग असंभव है. कोरोना वायरस का B.1.617 वैरिएंट जो सबसे पहले भारत में पाया गया था, अब भारत से बाहर दुनिया के कई देशों में देखा गया है और इसका संभवत: एक ही कारण है कि वो भारत से वहां गया है.\"',\n",
       " 'प्रोफ़ेसर मेनन चेतावनी देते हुए कहते हैं कि वायरस म्यूटेट करते रहेंगे और वो इम्यूनिटी से बचने के लिए भी रास्ता खोज लेंगे ताकि जो एक बार संक्रमित हो चुके हैं या जिन्होंने वैक्सीन लगवा ली है उनको भी संक्रमित कर सकें.',\n",
       " 'सवाल यह है कि वो कितनी जल्दी ऐसा कर सकते हैं.',\n",
       " 'प्रोफ़ेसर मेनन कहते हैं, \"दुनिया भर के विभिन्न वैरियंट्स के अध्ययन से हममलोग जानते हैं कि SARS-CoV-2 म्यूटेट कर सकता है ताकि वो ज़्यादा आसानी से फैल सके. अभी तक हमलोगों का मानना है कि वैक्सीन इन नए वैरियंट्स पर भी प्रभावी होती हैं लेकिन हो सकता है कि भविष्य में यह बदल जाए.\"',\n",
       " 'भारत में ऑक्सीजन की कमी को दूर करने के लिए अंतरराष्टीय मदद की जा रही है.',\n",
       " 'यूके ने वेंटिलेटर और ऑक्सीजन कंसेन्ट्रेटर्स भेजना शुरू कर दिया है और अमेरिका ने वैक्सीन बनाने के लिए काम आने वाले कच्चे पदार्थों के निर्यात पर से पाबंदी हटा ली है जिससे एस्ट्राज़ेनेका की वैक्सीन कोविशील्ड बनाने में मदद मिलेगी.',\n",
       " 'इमेज स्रोत, AFP',\n",
       " 'दिल्ली के कुछ अस्पतालों में ऑक्सीजन नहीं मिलने से कई कोरोना मरीज़ों की मौत हो गई',\n",
       " 'कई दूसरे देश भी भारत को मेडिकल स्टाफ़ और दूसरे मेडिकर उपकरण भेज रहे हैं.',\n",
       " 'भारत सरकार ने देश भर में 500 ऑक्सीजन जेनेरेशन प्लांट लगाने की मंज़ूरी दे दी है.',\n",
       " 'लेकिन इन सबसे कोरोना से होने वाली मौतों को रोका जा सकता है, कोरोना से होने वाले संक्रमण को नहीं.',\n",
       " 'दुनिया को इस वक़्त ज़रूरत है कि भारत वैक्सीनेशन की अपनी क्षमता बढ़ाए ताकि वो वायरस को दुनिया भर में फैलने से रोके.',\n",
       " 'जब इस महामारी की शुरुआत हुई थी तब भारत को इस पर क़ाबू पाने की उम्मीद थी और उसके कारण भी थे, क्योंकि जहां तक वैक्सीन का सवाल है भारत दुनिया में सबसे ज़्यादा वैक्सीन बनाता है.',\n",
       " 'भारत में टीकाकरण का बहुत बड़ा अभियान चलता है, दुनिया भर की 60 फ़ीसदी वैक्सीन भारत में बनती है और दुनिया भर के बड़े दवा निर्माताओं में से सीरम इंस्टीट्यूट ऑफ़ इंडिया (एसआईआई) समेत क़रीब आधे दर्जन का मुख्यालय तो भारत में ही है.',\n",
       " 'इमेज स्रोत, AFP',\n",
       " 'भारत में दुनिया का सबसे बड़े वैक्सीनेशन प्रोग्राम चल रहा है.',\n",
       " 'बीबीसी संवाददाता सौतिक बिस्वास के अनुसार, \"लेकिन इन सबके बावजूद कोरोना वायरस के ख़िलाफ़ वैक्सीनेशन में अप्रत्याशित चुनौती पैदा हो रही हैं.\"',\n",
       " 'भारत में कोरोना वायरस के ख़िलाफ़ दुनिया का सबसे बड़ा टीकाकरण अभियान 16 जनवरी को शुरू हुआ और जुलाई तक क़रीब 25 करोड़ लोगों को वैक्सीन देने का लक्ष्य रखा गया.',\n",
       " 'अभी तक सिर्फ़ 11 करोड़ 80 लाख लोगों को पहला डोज़ दिया जा सका है. यह भारत की आबादी का क़रीब नौ फ़ीसदी हैं.',\n",
       " 'सबसे पहले हेल्थवर्कर्स और फ़्रंटलाइन स्टाफ़ को वैक्सीन दी गई थी लेकिन अब 18 साल से अधिक उम्र के सभी लोगों को एक मई से वैक्सीन देने का फ़ैसला किया गया है.',\n",
       " 'लेकिन भारत की इतनी बड़ी आबादी को देखते हुए वैक्सीनेशन में दिक़्क़तें आ रही हैं. ',\n",
       " 'विशेषज्ञों का कहना है कि वैक्सीनेशन की रफ़्तार को तेज़ करनी होगी अगर भारत अपना लक्ष्य पूरा करना चाहता है तो.',\n",
       " 'सौतिक बिस्वास कहते हैं, \"अभी यह साफ़ नहीं है कि भारत के पास पर्याप्त मात्रा में वैक्सीन है या नहीं या उसके पास युवाओं को भी वैक्सीन देने की क्षमता है या नहीं.\"',\n",
       " 'इमेज स्रोत, Getty Images',\n",
       " 'उम्मीद है कि जुलाई तक भारत में 25 करोड़ लोगों को वैक्सीन लग जाएगी',\n",
       " 'जब तक इतनी बड़ी आबादी को वैक्सीन नहीं लग जाती है, तब तक यह पूरी दुनिया के लिए ख़तरा है.',\n",
       " 'प्रोफ़ेसर मेनन कहते हैं, \" कोरोना जैसी संक्रमण वाली बीमारियों की दिक़्क़त यह है कि यह महामारी किसी एक देश की समस्या नहीं है, कुछ देशों की भी नहीं है बल्कि यह तो सचमुच में एक वैश्विक समस्या है.\\'\\'',\n",
       " 'वो कहते हैं, \"हमें कोरोना के टेस्ट और वैक्सीनेशन के मामले में और अधिक अंतरराष्ट्रीय सहयोग के सहयोग की ज़रूरत है.\"',\n",
       " 'कोरोना महामारी की शुरुआत में ही पब्लिक हेल्थ के अधिकारियों और राजनेताओं ने कहा था कि, \"जबतक हर कोई सुरक्षित नहीं है उस वक़्त तक कोई सुरक्षित नहीं है.',\n",
       " '(बीबीसी हिन्दी के एंड्रॉएड ऐप के लिए आप यहां क्लिक कर सकते हैं. आप हमें फ़ेसबुक, ट्विटर, इंस्टाग्राम और यूट्यूब पर फ़ॉलो भी कर सकते हैं.)',\n",
       " '© 2021 BBC. बाहरी साइटों की सामग्री के लिए बीबीसी ज़िम्मेदार नहीं है. बाहरी साइटों का लिंक देने की हमारी नीति के बारे में पढ़ें.']"
      ]
     },
     "execution_count": 6,
     "metadata": {},
     "output_type": "execute_result"
    }
   ],
   "source": [
    "# scrape_tool.read_page(link=\"https://hi.wikipedia.org/wiki/%E0%A4%95%E0%A5%83%E0%A4%B7%E0%A4%BF\")\n",
    "scrape_tool.read_page(link=\"https://www.bbc.com/hindi/india-56901831\")"
   ]
  },
  {
   "cell_type": "markdown",
   "metadata": {},
   "source": [
    "<b>Read from hindi document</b>"
   ]
  },
  {
   "cell_type": "code",
   "execution_count": 7,
   "metadata": {
    "collapsed": true
   },
   "outputs": [
    {
     "name": "stdout",
     "output_type": "stream",
     "text": [
      "18 pages found\n"
     ]
    },
    {
     "data": {
      "text/plain": [
       "['  येड याइडडगॊ  हड ु सी. योज़ा, हहदॊ ी : विदषू क   ',\n",
       " '  येड याइडडगॊ  हड ु सी. योज़ा, हहदॊ ी : विदषू क   ',\n",
       " 'ककसी ज़भाने भें एक फड़ी प्मायी रड़की  यहती थी. उसे अऩनी नानी के  घय जाना फेहद  ऩसॊद था. एक हदन नानी ने उसे एक फड़ी  खास बेंट दी.  ',\n",
       " 'नानी ने उसके  लरए एक रार  यॊग का ऊनी चोगा लसरा जजसभें  लसय ढॊकने के  लरए एक टोऩी बी  थी.   उसे िो ड्रसे  फहुत ऩसॊद आई.   िो अफ जहाॉ बी जाती उस रार ड्रसे  को ऩहनकय जाती.  ',\n",
       " 'उसे िो ड्रसे  इतनी ऩसॊद आई, कक िो सोते  सभम बी उसे नहीॊ उतायती थी. कपय रोगों ने  उसे येड याइडडगॊ  हुड फरु ाना शरूु  कय हदमा.  ',\n",
       " 'एक हदन येड याइडडगॊ  हुड की भाॉ ने उससे कहा,  “देखो तुम्हायी नानी की तबफमत कु छ ख़याफ है.”  येड याइडडगॊ  हुड ने तुयॊत नानी के  ऩास जाने की  अऩनी इच्छा ज़ाहहय की.   “ठीक है, जॊगर िारी ऩगडडॊ ी ऩय ही चरना.   इधय-उधय भत जाना,” भाॉ ने उसे सभझाते हुए कहा.   येड याइडडगॊ  ने भाॉ से िसै ा ही  कयने का िादा ककमा.  ',\n",
       " 'कु छ देय फाद उसकी भरु ाक़ात  एक बेडड़मे से हुई.  कपय येड याइडडगॊ  हुड जॊगर की ऩगडडॊ ी ऩय कू दती हुई गई.  उसने फहुत सािधानी फयती औय ऩगडडॊ ी से इधय-उधय  बफल्कु र नहीॊ बटकी.  ',\n",
       " '“छोटी रड़की, तुभ कहाॉ जा यही हो?” बेडड़मे ने ऩछू ा.  “हेरो,” बेडड़मे ने कहा.  बेडड़मे का यिय्ै मा कापी दोस्ताना था.   “भ ैं अऩनी नानी से लभरने जा यही हूॉ,” येड याइडडगॊ   “हेरो,” येड याइडडगॊ  ने कहा.    हुड ने कहा. “उनकी तबफमत कु छ ख़याफ है.” ',\n",
       " '“तुम्हायी नानी कहाॉ यहती हैं?” बेडड़मे ने ऩछू ा.  “िो इस ऩगडडॊ ी के  अॊत भें एक छोटे घय भें  यहती हैं,”  बेडड़मा नानी ने घय येड याइडडगॊ  हुड से ऩहरे  ऩहुॊचना चाहता था.   “भ ैं उस फढ़ू ी औयत औय इस छोटी रड़की को  ननगर जाऊॊ गा,” बेडड़मे ने सोचा. “उन्हें खाने   भें ककतना भज़ा आएगा!”  ',\n",
       " '“देखो महाॉ जॊगर भें ककतने खूफसयू त पू र  खखरे हैं,” बेडड़मे ने कहा. “तुभ कु छ सन्ु दय पू र  तोड़कय अऩनी नानी के  लरए क्मों नहीॊ रे  जातीॊ?”   “फहढ़मा विचाय है!” येड याइडडगॊ  हुड ने कहा.  जफ येड याइडडगॊ  हुड पू र तोड़ने के  लरए  रुकी तफ बेडड़मा िहाॊ से चम्ऩत हो गमा.  ',\n",
       " 'बेडड़मा चऩु के  से से नानी के  घय भें घसु ा.   िो ऩॊजों के  फर चरकय नानी के  कभये भें घसु ा.   ऩय अचानक नानी की आॉख खुर गई.  जफ नानी ने बेडड़मे को देखा तो िो ज़ोय से चचल्राईं.  “फचाओ! फचाओ!” ',\n",
       " 'तफ बेडड़मे ने नानी को उठाकय एक  रकड़ी की अल्भायी भें फॊद कय हदमा.  ',\n",
       " 'कु छ देय फाद येड याइडडगॊ  हुड ने नानी के  घय का  दयिाज़ा खटखटामा.  कपय बेडड़मे ने नानी के  कऩड़ े औय टोऩी  ऩहनी. उसके  फाद बेडड़मा चादय ओढ़कय नानी के   “नानी!” उसने ज़ोय से ऩकु ाया.  बफस्तय भें रेट गमा. अफ लसपफ  उसकी फारों  “अन्दय आ जाओ फेटा!” बेडड़मे ने ऊॊ ची आिाज़ भें कहा.   िारी ठोड़ी ही हदखाई दे यही थी.  ',\n",
       " 'येड याइडडगॊ  हुड नानी के  सोने िारे कभये भें  गई.   आज उसे नानी फड़ी अजीफ सी रगीॊ.   “नानी, तुम्हाये कान इतने रम्फे क्मों हैं?”   उसने ऩछू ा.   “जजससे भ ैं तुम्हायी फातें अच्छी तयह सनु  सकॊू ,”  बेडड़मे ने कहा.  ',\n",
       " '“नानी, तुम्हायी आॉखें इतनी फड़ी क्मों हैं?”   “नानी, तुम्हाये हाथ इतने फड़ े क्मों हैं?”   येड याइडडगॊ  हुड ने ऩछू ा.   येड याइडडगॊ  हुड ने ऩछू ा.   “जजससे भ ैं तुम्हें अच्छी तयह से देख सकॊू ,”  “जजससे भ ैं तुम्हें अच्छी तयह से गरे रगा  बेडड़मे ने कहा.   सकॊू ,” बेडड़मे ने कहा.  ',\n",
       " '“नानी, तुम्हाये दाॊत इतने फड़ े क्मों हैं?”   छोटी येड याइडडगॊ  हुड ने ऩछू ा.   “जजससे भ ैं तुम्हें अच्छी तयह से खा सकॊू ,”   बेडड़मे ने कहा.   उसके  फाद दष्ु ट बेडड़मा ऩरॊग से कू दा.   िो छोटी येड याइडडगॊ  हुड को ऩकड़ने के  लरए रऩका.  ऩय छोटी रड़की तुयॊत छराॊग रगाकय फच ननकरी. ',\n",
       " 'कपय बेडड़मा खखड़की भें से ननकरकय बाग गमा.   उसके  फाद बेडड़मे को ककसी ने कबी नहीॊ देखा.  छोटी येड याइडडगॊ  हुड की नानी ने अल्भायी का दयिाज़ा  खटखटामा. छोटी येड याइडडगॊ  हुड ने अल्भायी का दयिाज़ा  खोरा.   “क्मा हुआ?” नानी ने ऩछू ा.  ',\n",
       " 'आज आते सभम भ ैं जॊगर की ऩगडडॊ ी  से आऩके  लरए कु छ पू र तोड़ने के  लरए  उतयी थी,” छोटी येड याइडडगॊ  हुड ने कहा.   “चरो भझु  े ख़ुशी है कक तुभने आज एक  अच्छा सफक सीखा,” नानी ने कहा. उसके  फाद  नानी ने छोटी येड याइडडगॊ  हुड को अच्छा खाना    अतं   खखरामा.  ']"
      ]
     },
     "execution_count": 7,
     "metadata": {},
     "output_type": "execute_result"
    }
   ],
   "source": [
    "scrape_tool.read_page(document='RedRidingHood-H-2mb.pdf')"
   ]
  },
  {
   "cell_type": "markdown",
   "metadata": {},
   "source": [
    "<b>Read from kannada webpage</b>"
   ]
  },
  {
   "cell_type": "code",
   "execution_count": 8,
   "metadata": {},
   "outputs": [
    {
     "data": {
      "text/plain": [
       "['ಏಪ್ರಿಲ್ 27 ರಿಂದ 14 ದಿನ ಜನತಾ ಕರ್ಫ್ಯೂ| ನಾನು ಲಾಕ್\\u200cಡೌನ್\\u200c ವಿರೋಧಿಯಲ್ಲ. ಆದರೆ, ಇದರಿಂದ ಬಡವರು, ಕೂಲಿಕಾರರ ಮೇಲಾಗುವ ಪರಿಣಾಮಗಳನ್ನು ಅರಿಯಬೇಕಿತ್ತು| ಸರ್ಕಾರ ಈ ಬಗ್ಗೆ ಮತ್ತೊಮ್ಮೆ ಯೋಚಿಸಬೇಕು: ಸೋಮಶೇಖರ ರೆಡ್ಡಿ| \\xa0',\n",
       " 'ಬಳ್ಳಾರಿ(ಏ.28): ಜನತಾ ಕರ್ಫ್ಯೂ ಹಾಗೂ ಲಾಕ್\\u200cಡೌನ್\\u200cನಿಂದ ಬಡವರಿಗೆ ತೀವ್ರ ಸಮಸ್ಯೆಯಾಗಲಿದೆ. ರಾಜ್ಯ ಸರ್ಕಾರ ಲಾಕ್\\u200cಡೌನ್\\u200c ಮಾಡುವ ಮುಂಚೆ ಯೋಚನೆ ಮಾಡಬೇಕಿತ್ತು ಎಂದು ನಗರ ಶಾಸಕ ಜಿ. ಸೋಮಶೇಖರ ರೆಡ್ಡಿ ಅಸಮಾಧಾನ ವ್ಯಕ್ತಪಡಿಸಿದ್ದಾರೆ.',\n",
       " 'ಮಂಗಳವಾರ ನಗರದಲ್ಲಿ ಸುದ್ದಿಗಾರರ ಜತೆ ಮಾತನಾಡಿದ ಅವರು, ನಾನು ಲಾಕ್\\u200cಡೌನ್\\u200c ವಿರೋಧಿಯಲ್ಲ. ಆದರೆ, ಇದರಿಂದ ಬಡವರು, ಕೂಲಿಕಾರರ ಮೇಲಾಗುವ ಪರಿಣಾಮಗಳನ್ನು ಅರಿಯಬೇಕಿತ್ತು ಎಂದರಲ್ಲದೆ, ಸರ್ಕಾರ ಈ ಬಗ್ಗೆ ಮತ್ತೊಮ್ಮೆ ಯೋಚಿಸಬೇಕು ಎಂದರು.',\n",
       " '14 ದಿನ ಕರ್ನಾಟಕ ಲಾಕ್\\u200cಡೌನ್: ಏನಿರುತ್ತೆ? ಏನಿರಲ್ಲ? ಇಲ್ಲಿದೆ ಮಾಹಿತಿ',\n",
       " 'ರಾಜ್ಯದಲ್ಲಿ ಕೊರೋನಾ ಸೋಂಕು ವ್ಯಾಪಕವಾಗಿ ಹರಡುತ್ತಿರುವುದರಿಂದ ನಿನ್ನೆಯಿಂದ(ಏಪ್ರಿಲ್ 27 ರಿಂದ 14 ದಿನ ಕರ್ನಾಟಕವನ್ನು ಲಾಕ್\\u200bಡೌನ್ ಮಾಡಲು ಮುಖ್ಯಮಂತ್ರಿ ಬಿ.ಎಸ್.ಯಡಿಯೂರಪ್ಪ ನಿರ್ಧಾರ ತೆಗೆದುಕೊಂಡಿದ್ದರು.\\xa0\\xa0',\n",
       " 'Last Updated Apr 28, 2021, 2:18 PM IST',\n",
       " 'ಭಾರತದಲ್ಲಿ ಆರೋಗ್ಯದ ತುರ್ತು ಪರಿಸ್ಥಿತಿ,  ಹರಿದು ಬಂತು ಅಂತಾರಾಷ್ಟ್ರೀಯ ಮಟ್ಟದ ನೆರವಿನ ಮಹಾಪೂರ',\n",
       " 'ಏಕಾಏಕಿ ನಿರ್ಧಾರ ಬದಲಿಸಿದ ಬಿಎಸ್\\u200cವೈ: ಯಡಿಯೂರಪ್ಪ ವಿರುದ್ಧ ಹರಿಹಾಯ್ದ ಪಾಟೀಲ್\\u200c..!',\n",
       " 'ಸ್ಟೈಲಿಷ್ ಸ್ಟಾರ್\\u200c ಅಲ್ಲುಗೆ ಕೊರೋನಾ ಪಾಸಿಟಿವ್',\n",
       " 'ಜನತಾ ಕರ್ಫ್ಯೂ: ಕೆಲಸ, ಹಣವಿಲ್ಲದೇ ನಾವು ಬದುಕೋದಾದ್ರು ಹೇಗೆ ಸ್ವಾಮಿ?',\n",
       " 'ಮುಂಬೈನಲ್ಲಿ ‘ಎಟಿಎಂ’ ರಣತಂತ್ರ ಯಶಸ್ವಿ; ಕರ್ನಾಟಕದಲ್ಲಿಯೂ ವರ್ಕೌಟ್ ಆಗುವ ಭರವಸೆ',\n",
       " 'ಕೋವಿಡ್ ರಿಸ್ಕ್ : ಬೆಂಗಳೂರು ಪೊಲೀಸರ ನೆರವಿಗೆ ನಿಂತ ನಟ ಸೋನು ಸೂದ್',\n",
       " 'ಲಾಕ್\\u200cಡೌನ್\\u200cನಿಂದ ಬಡವರಿಗೆ ಸಮಸ್ಯೆ ಎಂದ ಬಿಜೆಪಿ ಶಾಸಕ',\n",
       " 'ಏಕಾಏಕಿ ನಿರ್ಧಾರ ಬದಲಿಸಿದ ಬಿಎಸ್\\u200cವೈ: ಯಡಿಯೂರಪ್ಪ ವಿರುದ್ಧ ಹರಿಹಾಯ್ದ ಪಾಟೀಲ್\\u200c..!',\n",
       " 'ಸ್ಟೈಲಿಷ್ ಸ್ಟಾರ್\\u200c ಅಲ್ಲುಗೆ ಕೊರೋನಾ ಪಾಸಿಟಿವ್',\n",
       " 'ಜನತಾ ಕರ್ಫ್ಯೂ: ಕೆಲಸ, ಹಣವಿಲ್ಲದೇ ನಾವು ಬದುಕೋದಾದ್ರು ಹೇಗೆ ಸ್ವಾಮಿ?',\n",
       " 'ಕೊರೋನಾ ಪತ್ತೆ ಹಚ್ಚಲು ದೇಶದಲ್ಲಿ ಮತ್ತಷ್ಟು ಕ್ರಮ: ಮಹತ್ವದ ಹೆಜ್ಜೆ ಇರಿಸಿದ ICMR!',\n",
       " 'ಭಾರತದಲ್ಲಿ ಆರೋಗ್ಯದ ತುರ್ತು ಪರಿಸ್ಥಿತಿ,  ಹರಿದು ಬಂತು ಅಂತಾರಾಷ್ಟ್ರೀಯ ಮಟ್ಟದ ನೆರವಿನ ಮಹಾಪೂರ',\n",
       " 'ಮುಂಬೈನಲ್ಲಿ ‘ಎಟಿಎಂ’ ರಣತಂತ್ರ ಯಶಸ್ವಿ; ಕರ್ನಾಟಕದಲ್ಲಿಯೂ ವರ್ಕೌಟ್ ಆಗುವ ಭರವಸೆ',\n",
       " 'ಹರಿಶ್ಚಂದ್ರ ಘಾಟ್\\u200cನಲ್ಲಿ ಅಂತ್ಯಕ್ರಿಯೆ ಮಾಡ್ಬೇಡಿ, ಪೊಲೀಸರ ಜೊತೆ ಸ್ಥಳಿಯರ ವಾಗ್ವಾದ',\n",
       " 'ಕೋವಿಡ್ ಆಸ್ಪತ್ರೆಯಲ್ಲೇ ಮಾಂಗಲ್ಯಂ ತಂತು ನಾನೇನ.. ಪಿಪಿಇ ಕಿಟ್\\u200c ಧರಿಸಿ ಸಪ್ತಪದಿ ತುಳಿದ ಜೋಡಿ',\n",
       " 'ಪಂಚಾಂಗ : ಬುಧವಾರ ವಿಷ್ಣುಸಹಸ್ರನಾಮ ಪಠಣೆಯಿಂದ ಬಾಧೆಗಳು ದೂರವಾಗುವವು',\n",
       " 'Follow us on:',\n",
       " 'Select Language',\n",
       " '© Copyright 2021 Asianet News Media & Entertainment Private Limited | All Rights Reserved']"
      ]
     },
     "execution_count": 8,
     "metadata": {},
     "output_type": "execute_result"
    }
   ],
   "source": [
    "# scrape_tool.read_page(link=\"https://kn.wikipedia.org/wiki/%E0%B2%B8%E0%B2%BE%E0%B2%B5%E0%B2%AF%E0%B2%B5_%E0%B2%AC%E0%B3%87%E0%B2%B8%E0%B2%BE%E0%B2%AF\")\n",
    "scrape_tool.read_page(link=\"https://kannada.asianetnews.com/karnataka-districts/bjp-mla-g-somashekara-reddy-talks-lockdown-in-karnataka-grg-qs9n0r\")"
   ]
  }
 ],
 "metadata": {
  "kernelspec": {
   "display_name": "Python 3",
   "language": "python",
   "name": "python3"
  },
  "language_info": {
   "codemirror_mode": {
    "name": "ipython",
    "version": 3
   },
   "file_extension": ".py",
   "mimetype": "text/x-python",
   "name": "python",
   "nbconvert_exporter": "python",
   "pygments_lexer": "ipython3",
   "version": "3.6.9"
  }
 },
 "nbformat": 4,
 "nbformat_minor": 4
}
